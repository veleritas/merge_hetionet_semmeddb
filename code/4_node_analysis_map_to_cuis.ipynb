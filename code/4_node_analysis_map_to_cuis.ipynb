{
 "cells": [
  {
   "cell_type": "markdown",
   "metadata": {},
   "source": [
    "# Checking to see if the map from Hetionet ids to UMLS CUIs could have been better\n",
    "\n",
    "2019-01-24\n",
    "\n",
    "First step of merging Hetionet with SemmedDB is to map the Hetionet ids to UMLS CUIs so they can be cross-referenced with SemmedDB nodes. Here we try to see if the mapping to CUIs could have been better."
   ]
  },
  {
   "cell_type": "code",
   "execution_count": 1,
   "metadata": {},
   "outputs": [],
   "source": [
    "import pandas as pd"
   ]
  },
  {
   "cell_type": "markdown",
   "metadata": {},
   "source": [
    "# Read the Hetionet to UMLS mapping file"
   ]
  },
  {
   "cell_type": "code",
   "execution_count": 2,
   "metadata": {},
   "outputs": [],
   "source": [
    "hnodes = pd.read_csv(\"../pipeline/hetionet/hetionet_nodes_umls.tsv\", sep='\\t')"
   ]
  },
  {
   "cell_type": "code",
   "execution_count": 3,
   "metadata": {},
   "outputs": [
    {
     "data": {
      "text/plain": [
       "(58700, 4)"
      ]
     },
     "execution_count": 3,
     "metadata": {},
     "output_type": "execute_result"
    }
   ],
   "source": [
    "hnodes.shape"
   ]
  },
  {
   "cell_type": "code",
   "execution_count": 4,
   "metadata": {},
   "outputs": [
    {
     "data": {
      "text/html": [
       "<div>\n",
       "<style scoped>\n",
       "    .dataframe tbody tr th:only-of-type {\n",
       "        vertical-align: middle;\n",
       "    }\n",
       "\n",
       "    .dataframe tbody tr th {\n",
       "        vertical-align: top;\n",
       "    }\n",
       "\n",
       "    .dataframe thead th {\n",
       "        text-align: right;\n",
       "    }\n",
       "</style>\n",
       "<table border=\"1\" class=\"dataframe\">\n",
       "  <thead>\n",
       "    <tr style=\"text-align: right;\">\n",
       "      <th></th>\n",
       "      <th>hetio_id</th>\n",
       "      <th>name</th>\n",
       "      <th>het_type</th>\n",
       "      <th>cui</th>\n",
       "    </tr>\n",
       "  </thead>\n",
       "  <tbody>\n",
       "    <tr>\n",
       "      <th>0</th>\n",
       "      <td>1</td>\n",
       "      <td>A1BG</td>\n",
       "      <td>Gene</td>\n",
       "      <td>UMLS:C1412045</td>\n",
       "    </tr>\n",
       "    <tr>\n",
       "      <th>1</th>\n",
       "      <td>10</td>\n",
       "      <td>NAT2</td>\n",
       "      <td>Gene</td>\n",
       "      <td>UMLS:C0796518</td>\n",
       "    </tr>\n",
       "    <tr>\n",
       "      <th>2</th>\n",
       "      <td>100</td>\n",
       "      <td>ADA</td>\n",
       "      <td>Gene</td>\n",
       "      <td>UMLS:C1412179</td>\n",
       "    </tr>\n",
       "    <tr>\n",
       "      <th>3</th>\n",
       "      <td>1000</td>\n",
       "      <td>CDH2</td>\n",
       "      <td>Gene</td>\n",
       "      <td>UMLS:C1413277</td>\n",
       "    </tr>\n",
       "    <tr>\n",
       "      <th>4</th>\n",
       "      <td>10000</td>\n",
       "      <td>AKT3</td>\n",
       "      <td>Gene</td>\n",
       "      <td>UMLS:C1332074</td>\n",
       "    </tr>\n",
       "  </tbody>\n",
       "</table>\n",
       "</div>"
      ],
      "text/plain": [
       "  hetio_id  name het_type            cui\n",
       "0        1  A1BG     Gene  UMLS:C1412045\n",
       "1       10  NAT2     Gene  UMLS:C0796518\n",
       "2      100   ADA     Gene  UMLS:C1412179\n",
       "3     1000  CDH2     Gene  UMLS:C1413277\n",
       "4    10000  AKT3     Gene  UMLS:C1332074"
      ]
     },
     "execution_count": 4,
     "metadata": {},
     "output_type": "execute_result"
    }
   ],
   "source": [
    "hnodes.head()"
   ]
  },
  {
   "cell_type": "markdown",
   "metadata": {},
   "source": [
    "---"
   ]
  },
  {
   "cell_type": "markdown",
   "metadata": {},
   "source": [
    "## Questions to answer\n",
    "\n",
    "1. Percentage of nodes with CUIs (grouped by node type)\n",
    "2. Which nodes could not be mapped to CUIs"
   ]
  },
  {
   "cell_type": "markdown",
   "metadata": {},
   "source": [
    "### Number of unique Hetionet nodes"
   ]
  },
  {
   "cell_type": "code",
   "execution_count": 5,
   "metadata": {},
   "outputs": [
    {
     "data": {
      "text/plain": [
       "47031"
      ]
     },
     "execution_count": 5,
     "metadata": {},
     "output_type": "execute_result"
    }
   ],
   "source": [
    "hnodes[\"hetio_id\"].nunique()"
   ]
  },
  {
   "cell_type": "markdown",
   "metadata": {},
   "source": [
    "### Check whether final id is a CUI"
   ]
  },
  {
   "cell_type": "code",
   "execution_count": 6,
   "metadata": {},
   "outputs": [],
   "source": [
    "hnodes = hnodes.assign(is_cui = lambda df: df[\"cui\"].str.startswith(\"UMLS:C\"))"
   ]
  },
  {
   "cell_type": "code",
   "execution_count": 7,
   "metadata": {},
   "outputs": [
    {
     "data": {
      "text/html": [
       "<div>\n",
       "<style scoped>\n",
       "    .dataframe tbody tr th:only-of-type {\n",
       "        vertical-align: middle;\n",
       "    }\n",
       "\n",
       "    .dataframe tbody tr th {\n",
       "        vertical-align: top;\n",
       "    }\n",
       "\n",
       "    .dataframe thead th {\n",
       "        text-align: right;\n",
       "    }\n",
       "</style>\n",
       "<table border=\"1\" class=\"dataframe\">\n",
       "  <thead>\n",
       "    <tr style=\"text-align: right;\">\n",
       "      <th></th>\n",
       "      <th>hetio_id</th>\n",
       "      <th>name</th>\n",
       "      <th>het_type</th>\n",
       "      <th>cui</th>\n",
       "      <th>is_cui</th>\n",
       "    </tr>\n",
       "  </thead>\n",
       "  <tbody>\n",
       "    <tr>\n",
       "      <th>0</th>\n",
       "      <td>1</td>\n",
       "      <td>A1BG</td>\n",
       "      <td>Gene</td>\n",
       "      <td>UMLS:C1412045</td>\n",
       "      <td>True</td>\n",
       "    </tr>\n",
       "    <tr>\n",
       "      <th>1</th>\n",
       "      <td>10</td>\n",
       "      <td>NAT2</td>\n",
       "      <td>Gene</td>\n",
       "      <td>UMLS:C0796518</td>\n",
       "      <td>True</td>\n",
       "    </tr>\n",
       "    <tr>\n",
       "      <th>2</th>\n",
       "      <td>100</td>\n",
       "      <td>ADA</td>\n",
       "      <td>Gene</td>\n",
       "      <td>UMLS:C1412179</td>\n",
       "      <td>True</td>\n",
       "    </tr>\n",
       "    <tr>\n",
       "      <th>3</th>\n",
       "      <td>1000</td>\n",
       "      <td>CDH2</td>\n",
       "      <td>Gene</td>\n",
       "      <td>UMLS:C1413277</td>\n",
       "      <td>True</td>\n",
       "    </tr>\n",
       "    <tr>\n",
       "      <th>4</th>\n",
       "      <td>10000</td>\n",
       "      <td>AKT3</td>\n",
       "      <td>Gene</td>\n",
       "      <td>UMLS:C1332074</td>\n",
       "      <td>True</td>\n",
       "    </tr>\n",
       "  </tbody>\n",
       "</table>\n",
       "</div>"
      ],
      "text/plain": [
       "  hetio_id  name het_type            cui  is_cui\n",
       "0        1  A1BG     Gene  UMLS:C1412045    True\n",
       "1       10  NAT2     Gene  UMLS:C0796518    True\n",
       "2      100   ADA     Gene  UMLS:C1412179    True\n",
       "3     1000  CDH2     Gene  UMLS:C1413277    True\n",
       "4    10000  AKT3     Gene  UMLS:C1332074    True"
      ]
     },
     "execution_count": 7,
     "metadata": {},
     "output_type": "execute_result"
    }
   ],
   "source": [
    "hnodes.head()"
   ]
  },
  {
   "cell_type": "markdown",
   "metadata": {},
   "source": [
    "## Number of unique Hetionet ids which have UMLS CUIs"
   ]
  },
  {
   "cell_type": "code",
   "execution_count": 8,
   "metadata": {},
   "outputs": [
    {
     "data": {
      "text/plain": [
       "is_cui\n",
       "False     3474\n",
       "True     43557\n",
       "Name: hetio_id, dtype: int64"
      ]
     },
     "execution_count": 8,
     "metadata": {},
     "output_type": "execute_result"
    }
   ],
   "source": [
    "hnodes.groupby(\"is_cui\")[\"hetio_id\"].nunique()"
   ]
  },
  {
   "cell_type": "code",
   "execution_count": 9,
   "metadata": {},
   "outputs": [
    {
     "data": {
      "text/plain": [
       "True     92.613383\n",
       "False     7.386617\n",
       "Name: is_cui, dtype: float64"
      ]
     },
     "execution_count": 9,
     "metadata": {},
     "output_type": "execute_result"
    }
   ],
   "source": [
    "(hnodes\n",
    "    [[\"hetio_id\", \"is_cui\"]]\n",
    "    .drop_duplicates()\n",
    "    [\"is_cui\"]\n",
    "    .value_counts(normalize=True)\n",
    "    .multiply(100)\n",
    ")"
   ]
  },
  {
   "cell_type": "markdown",
   "metadata": {},
   "source": [
    "Of the 47031 Hetionet nodes, 92.6% were successfully mapped to their respective CUIs."
   ]
  },
  {
   "cell_type": "markdown",
   "metadata": {},
   "source": [
    "## Number of each node type mapped to CUIs"
   ]
  },
  {
   "cell_type": "code",
   "execution_count": 10,
   "metadata": {},
   "outputs": [
    {
     "data": {
      "text/plain": [
       "het_type             is_cui\n",
       "Anatomy              True        402\n",
       "Biological Process   False        60\n",
       "                     True      11321\n",
       "Cellular Component   False         6\n",
       "                     True       1385\n",
       "Compound             False         8\n",
       "                     True       1544\n",
       "Disease              False         2\n",
       "                     True        135\n",
       "Gene                 False      1562\n",
       "                     True      19383\n",
       "Molecular Function   False        13\n",
       "                     True       2871\n",
       "Pathway              False      1822\n",
       "Pharmacologic Class  False         1\n",
       "                     True        344\n",
       "Side Effect          True       5734\n",
       "Symptom              True        438\n",
       "Name: hetio_id, dtype: int64"
      ]
     },
     "execution_count": 10,
     "metadata": {},
     "output_type": "execute_result"
    }
   ],
   "source": [
    "hnodes.groupby([\"het_type\", \"is_cui\"])[\"hetio_id\"].nunique()"
   ]
  },
  {
   "cell_type": "markdown",
   "metadata": {},
   "source": [
    "## Percentage of each node type mapped to CUIs"
   ]
  },
  {
   "cell_type": "code",
   "execution_count": 11,
   "metadata": {},
   "outputs": [
    {
     "data": {
      "text/plain": [
       "het_type             is_cui\n",
       "Anatomy              True      100.000000\n",
       "Biological Process   True       99.472806\n",
       "                     False       0.527194\n",
       "Cellular Component   True       99.568656\n",
       "                     False       0.431344\n",
       "Compound             True       99.484536\n",
       "                     False       0.515464\n",
       "Disease              True       98.540146\n",
       "                     False       1.459854\n",
       "Gene                 True       92.542373\n",
       "                     False       7.457627\n",
       "Molecular Function   True       99.549237\n",
       "                     False       0.450763\n",
       "Pathway              False     100.000000\n",
       "Pharmacologic Class  True       99.710145\n",
       "                     False       0.289855\n",
       "Side Effect          True      100.000000\n",
       "Symptom              True      100.000000\n",
       "Name: is_cui, dtype: float64"
      ]
     },
     "execution_count": 11,
     "metadata": {},
     "output_type": "execute_result"
    }
   ],
   "source": [
    "(hnodes\n",
    "    [[\"hetio_id\", \"het_type\", \"is_cui\"]]\n",
    "    .drop_duplicates()\n",
    "    .groupby(\"het_type\")\n",
    "    [\"is_cui\"]\n",
    "    .value_counts(normalize=True)\n",
    "    .multiply(100)\n",
    ")"
   ]
  },
  {
   "cell_type": "markdown",
   "metadata": {},
   "source": [
    "### What were the node types of nodes without UMLS CUIs?"
   ]
  },
  {
   "cell_type": "code",
   "execution_count": 12,
   "metadata": {},
   "outputs": [
    {
     "data": {
      "text/plain": [
       "Pathway                52.446747\n",
       "Gene                   44.962579\n",
       "Biological Process      1.727116\n",
       "Molecular Function      0.374208\n",
       "Compound                0.230282\n",
       "Cellular Component      0.172712\n",
       "Disease                 0.057571\n",
       "Pharmacologic Class     0.028785\n",
       "Name: het_type, dtype: float64"
      ]
     },
     "execution_count": 12,
     "metadata": {},
     "output_type": "execute_result"
    }
   ],
   "source": [
    "hnodes.query(\"~is_cui\")[\"het_type\"].value_counts(normalize=True).multiply(100)"
   ]
  },
  {
   "cell_type": "markdown",
   "metadata": {},
   "source": [
    "# Conclusion\n",
    "\n",
    "The vast majority of concepts were mapped from Hetionet to the UMLS.\n",
    "\n",
    "Two types of nodes (Pathways and Genes) account for 97% of the concepts without CUI mappings.\n",
    "\n",
    "Based on these results it seems like the mapping from Hetionet ids to CUIs is very good, and not the main problem."
   ]
  }
 ],
 "metadata": {
  "kernelspec": {
   "display_name": "Python 3",
   "language": "python",
   "name": "python3"
  },
  "language_info": {
   "codemirror_mode": {
    "name": "ipython",
    "version": 3
   },
   "file_extension": ".py",
   "mimetype": "text/x-python",
   "name": "python",
   "nbconvert_exporter": "python",
   "pygments_lexer": "ipython3",
   "version": "3.6.7"
  }
 },
 "nbformat": 4,
 "nbformat_minor": 2
}
