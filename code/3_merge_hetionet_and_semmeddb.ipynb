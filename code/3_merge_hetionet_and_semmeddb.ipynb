{
 "cells": [
  {
   "cell_type": "markdown",
   "metadata": {},
   "source": [
    "# Create final merged network containing SemmedDB and Hetionet\n",
    "\n",
    "2018-12-14"
   ]
  },
  {
   "cell_type": "code",
   "execution_count": 1,
   "metadata": {},
   "outputs": [],
   "source": [
    "import pandas as pd"
   ]
  },
  {
   "cell_type": "markdown",
   "metadata": {},
   "source": [
    "## Load in manual curation results for merging edges\n",
    "\n",
    "Edge merging was performed in Excel from the `edge_merge.tsv` file."
   ]
  },
  {
   "cell_type": "code",
   "execution_count": 2,
   "metadata": {},
   "outputs": [],
   "source": [
    "res = (pd\n",
    "    .read_csv(\"../pipeline/manual_review/edge_merge_final.tsv\", sep='\\t')\n",
    "    .assign(changed = lambda df: df[\"edge_type\"] != df[\"final_edge_type\"])\n",
    ")"
   ]
  },
  {
   "cell_type": "code",
   "execution_count": 3,
   "metadata": {},
   "outputs": [
    {
     "data": {
      "text/plain": [
       "(81, 7)"
      ]
     },
     "execution_count": 3,
     "metadata": {},
     "output_type": "execute_result"
    }
   ],
   "source": [
    "res.shape"
   ]
  },
  {
   "cell_type": "code",
   "execution_count": 4,
   "metadata": {},
   "outputs": [
    {
     "data": {
      "text/html": [
       "<div>\n",
       "<style scoped>\n",
       "    .dataframe tbody tr th:only-of-type {\n",
       "        vertical-align: middle;\n",
       "    }\n",
       "\n",
       "    .dataframe tbody tr th {\n",
       "        vertical-align: top;\n",
       "    }\n",
       "\n",
       "    .dataframe thead th {\n",
       "        text-align: right;\n",
       "    }\n",
       "</style>\n",
       "<table border=\"1\" class=\"dataframe\">\n",
       "  <thead>\n",
       "    <tr style=\"text-align: right;\">\n",
       "      <th></th>\n",
       "      <th>source_stype</th>\n",
       "      <th>target_stype</th>\n",
       "      <th>edge_type</th>\n",
       "      <th>count</th>\n",
       "      <th>orig</th>\n",
       "      <th>final_edge_type</th>\n",
       "      <th>changed</th>\n",
       "    </tr>\n",
       "  </thead>\n",
       "  <tbody>\n",
       "    <tr>\n",
       "      <th>0</th>\n",
       "      <td>Anatomy</td>\n",
       "      <td>Anatomy</td>\n",
       "      <td>LOCATION_OF_AloA</td>\n",
       "      <td>267214</td>\n",
       "      <td>semmed</td>\n",
       "      <td>LOCATION_OF_AloA</td>\n",
       "      <td>False</td>\n",
       "    </tr>\n",
       "    <tr>\n",
       "      <th>1</th>\n",
       "      <td>Anatomy</td>\n",
       "      <td>Chemicals &amp; Drugs</td>\n",
       "      <td>LOCATION_OF_AloCD</td>\n",
       "      <td>996348</td>\n",
       "      <td>semmed</td>\n",
       "      <td>LOCATION_OF_AloCD</td>\n",
       "      <td>False</td>\n",
       "    </tr>\n",
       "    <tr>\n",
       "      <th>2</th>\n",
       "      <td>Anatomy</td>\n",
       "      <td>Disorders</td>\n",
       "      <td>LOCATION_OF_AloDO</td>\n",
       "      <td>520885</td>\n",
       "      <td>semmed</td>\n",
       "      <td>LOCATION_OF_AloDO</td>\n",
       "      <td>False</td>\n",
       "    </tr>\n",
       "    <tr>\n",
       "      <th>3</th>\n",
       "      <td>Anatomy</td>\n",
       "      <td>Genes &amp; Molecular Sequences</td>\n",
       "      <td>LOCATION_OF_AloG</td>\n",
       "      <td>534310</td>\n",
       "      <td>semmed</td>\n",
       "      <td>EXPRESSES_AeG</td>\n",
       "      <td>True</td>\n",
       "    </tr>\n",
       "    <tr>\n",
       "      <th>4</th>\n",
       "      <td>Anatomy</td>\n",
       "      <td>Genes &amp; Molecular Sequences</td>\n",
       "      <td>EXPRESSES_AeG</td>\n",
       "      <td>526407</td>\n",
       "      <td>h</td>\n",
       "      <td>EXPRESSES_AeG</td>\n",
       "      <td>False</td>\n",
       "    </tr>\n",
       "  </tbody>\n",
       "</table>\n",
       "</div>"
      ],
      "text/plain": [
       "  source_stype                 target_stype          edge_type   count  \\\n",
       "0      Anatomy                      Anatomy   LOCATION_OF_AloA  267214   \n",
       "1      Anatomy            Chemicals & Drugs  LOCATION_OF_AloCD  996348   \n",
       "2      Anatomy                    Disorders  LOCATION_OF_AloDO  520885   \n",
       "3      Anatomy  Genes & Molecular Sequences   LOCATION_OF_AloG  534310   \n",
       "4      Anatomy  Genes & Molecular Sequences      EXPRESSES_AeG  526407   \n",
       "\n",
       "     orig    final_edge_type  changed  \n",
       "0  semmed   LOCATION_OF_AloA    False  \n",
       "1  semmed  LOCATION_OF_AloCD    False  \n",
       "2  semmed  LOCATION_OF_AloDO    False  \n",
       "3  semmed      EXPRESSES_AeG     True  \n",
       "4       h      EXPRESSES_AeG    False  "
      ]
     },
     "execution_count": 4,
     "metadata": {},
     "output_type": "execute_result"
    }
   ],
   "source": [
    "res.head()"
   ]
  },
  {
   "cell_type": "markdown",
   "metadata": {},
   "source": [
    "### How many edge types were modified?"
   ]
  },
  {
   "cell_type": "code",
   "execution_count": 5,
   "metadata": {},
   "outputs": [
    {
     "data": {
      "text/plain": [
       "False    44\n",
       "True     37\n",
       "Name: changed, dtype: int64"
      ]
     },
     "execution_count": 5,
     "metadata": {},
     "output_type": "execute_result"
    }
   ],
   "source": [
    "res[\"changed\"].value_counts()"
   ]
  },
  {
   "cell_type": "code",
   "execution_count": 6,
   "metadata": {},
   "outputs": [
    {
     "data": {
      "text/plain": [
       "changed  orig  \n",
       "False    h          4\n",
       "         semmed    40\n",
       "True     h         36\n",
       "         semmed     1\n",
       "dtype: int64"
      ]
     },
     "execution_count": 6,
     "metadata": {},
     "output_type": "execute_result"
    }
   ],
   "source": [
    "res.groupby([\"changed\", \"orig\"]).size()"
   ]
  },
  {
   "cell_type": "markdown",
   "metadata": {},
   "source": [
    "Around half of the edges were untouched, and those which were changed were mostly hetionet edges (since we're trying to map onto semmeddb)."
   ]
  },
  {
   "cell_type": "markdown",
   "metadata": {},
   "source": [
    "---"
   ]
  },
  {
   "cell_type": "markdown",
   "metadata": {},
   "source": [
    "# Convert Hetionet edges to their final type"
   ]
  },
  {
   "cell_type": "markdown",
   "metadata": {},
   "source": [
    "### Read Hetionet nodes and edges"
   ]
  },
  {
   "cell_type": "code",
   "execution_count": 7,
   "metadata": {},
   "outputs": [],
   "source": [
    "hnodes = pd.read_csv(\"../pipeline/hetionet/final_hetionet_nodes_umls.tsv\", sep='\\t')"
   ]
  },
  {
   "cell_type": "code",
   "execution_count": 8,
   "metadata": {},
   "outputs": [
    {
     "data": {
      "text/plain": [
       "(48276, 6)"
      ]
     },
     "execution_count": 8,
     "metadata": {},
     "output_type": "execute_result"
    }
   ],
   "source": [
    "hnodes.shape"
   ]
  },
  {
   "cell_type": "code",
   "execution_count": 9,
   "metadata": {},
   "outputs": [
    {
     "data": {
      "text/html": [
       "<div>\n",
       "<style scoped>\n",
       "    .dataframe tbody tr th:only-of-type {\n",
       "        vertical-align: middle;\n",
       "    }\n",
       "\n",
       "    .dataframe tbody tr th {\n",
       "        vertical-align: top;\n",
       "    }\n",
       "\n",
       "    .dataframe thead th {\n",
       "        text-align: right;\n",
       "    }\n",
       "</style>\n",
       "<table border=\"1\" class=\"dataframe\">\n",
       "  <thead>\n",
       "    <tr style=\"text-align: right;\">\n",
       "      <th></th>\n",
       "      <th>hetio_id</th>\n",
       "      <th>name</th>\n",
       "      <th>het_type</th>\n",
       "      <th>in_sem</th>\n",
       "      <th>final_id</th>\n",
       "      <th>fin_type</th>\n",
       "    </tr>\n",
       "  </thead>\n",
       "  <tbody>\n",
       "    <tr>\n",
       "      <th>0</th>\n",
       "      <td>1</td>\n",
       "      <td>A1BG</td>\n",
       "      <td>Gene</td>\n",
       "      <td>True</td>\n",
       "      <td>UMLS:C1412045</td>\n",
       "      <td>Genes &amp; Molecular Sequences</td>\n",
       "    </tr>\n",
       "    <tr>\n",
       "      <th>1</th>\n",
       "      <td>10</td>\n",
       "      <td>NAT2</td>\n",
       "      <td>Gene</td>\n",
       "      <td>True</td>\n",
       "      <td>UMLS:C0796518</td>\n",
       "      <td>Genes &amp; Molecular Sequences</td>\n",
       "    </tr>\n",
       "    <tr>\n",
       "      <th>2</th>\n",
       "      <td>100</td>\n",
       "      <td>ADA</td>\n",
       "      <td>Gene</td>\n",
       "      <td>True</td>\n",
       "      <td>UMLS:C1412179</td>\n",
       "      <td>Genes &amp; Molecular Sequences</td>\n",
       "    </tr>\n",
       "    <tr>\n",
       "      <th>3</th>\n",
       "      <td>1000</td>\n",
       "      <td>CDH2</td>\n",
       "      <td>Gene</td>\n",
       "      <td>True</td>\n",
       "      <td>UMLS:C1413277</td>\n",
       "      <td>Genes &amp; Molecular Sequences</td>\n",
       "    </tr>\n",
       "    <tr>\n",
       "      <th>4</th>\n",
       "      <td>10000</td>\n",
       "      <td>AKT3</td>\n",
       "      <td>Gene</td>\n",
       "      <td>True</td>\n",
       "      <td>UMLS:C1332074</td>\n",
       "      <td>Genes &amp; Molecular Sequences</td>\n",
       "    </tr>\n",
       "  </tbody>\n",
       "</table>\n",
       "</div>"
      ],
      "text/plain": [
       "  hetio_id  name het_type  in_sem       final_id                     fin_type\n",
       "0        1  A1BG     Gene    True  UMLS:C1412045  Genes & Molecular Sequences\n",
       "1       10  NAT2     Gene    True  UMLS:C0796518  Genes & Molecular Sequences\n",
       "2      100   ADA     Gene    True  UMLS:C1412179  Genes & Molecular Sequences\n",
       "3     1000  CDH2     Gene    True  UMLS:C1413277  Genes & Molecular Sequences\n",
       "4    10000  AKT3     Gene    True  UMLS:C1332074  Genes & Molecular Sequences"
      ]
     },
     "execution_count": 9,
     "metadata": {},
     "output_type": "execute_result"
    }
   ],
   "source": [
    "hnodes.head()"
   ]
  },
  {
   "cell_type": "code",
   "execution_count": 10,
   "metadata": {},
   "outputs": [],
   "source": [
    "hedges = (pd\n",
    "    .read_csv(\"../data/hetionet/raw/hetionet_edges.csv\", sep=',')\n",
    "    .rename(columns={\n",
    "        \":START_ID\": \"source_id\",\n",
    "        \":END_ID\": \"target_id\",\n",
    "        \":TYPE\": \"het_etype\"\n",
    "    })\n",
    ")"
   ]
  },
  {
   "cell_type": "code",
   "execution_count": 11,
   "metadata": {},
   "outputs": [
    {
     "data": {
      "text/plain": [
       "(2249052, 3)"
      ]
     },
     "execution_count": 11,
     "metadata": {},
     "output_type": "execute_result"
    }
   ],
   "source": [
    "hedges.shape"
   ]
  },
  {
   "cell_type": "code",
   "execution_count": 12,
   "metadata": {},
   "outputs": [
    {
     "data": {
      "text/html": [
       "<div>\n",
       "<style scoped>\n",
       "    .dataframe tbody tr th:only-of-type {\n",
       "        vertical-align: middle;\n",
       "    }\n",
       "\n",
       "    .dataframe tbody tr th {\n",
       "        vertical-align: top;\n",
       "    }\n",
       "\n",
       "    .dataframe thead th {\n",
       "        text-align: right;\n",
       "    }\n",
       "</style>\n",
       "<table border=\"1\" class=\"dataframe\">\n",
       "  <thead>\n",
       "    <tr style=\"text-align: right;\">\n",
       "      <th></th>\n",
       "      <th>source_id</th>\n",
       "      <th>target_id</th>\n",
       "      <th>het_etype</th>\n",
       "    </tr>\n",
       "  </thead>\n",
       "  <tbody>\n",
       "    <tr>\n",
       "      <th>0</th>\n",
       "      <td>8568</td>\n",
       "      <td>GO:0042254</td>\n",
       "      <td>PARTICIPATES_GpBP</td>\n",
       "    </tr>\n",
       "    <tr>\n",
       "      <th>1</th>\n",
       "      <td>UBERON:0002450</td>\n",
       "      <td>51316</td>\n",
       "      <td>EXPRESSES_AeG</td>\n",
       "    </tr>\n",
       "    <tr>\n",
       "      <th>2</th>\n",
       "      <td>4893</td>\n",
       "      <td>PC7_8430</td>\n",
       "      <td>PARTICIPATES_GpPW</td>\n",
       "    </tr>\n",
       "    <tr>\n",
       "      <th>3</th>\n",
       "      <td>UBERON:0002185</td>\n",
       "      <td>55186</td>\n",
       "      <td>EXPRESSES_AeG</td>\n",
       "    </tr>\n",
       "    <tr>\n",
       "      <th>4</th>\n",
       "      <td>119504</td>\n",
       "      <td>GO:0033047</td>\n",
       "      <td>PARTICIPATES_GpBP</td>\n",
       "    </tr>\n",
       "  </tbody>\n",
       "</table>\n",
       "</div>"
      ],
      "text/plain": [
       "        source_id   target_id          het_etype\n",
       "0            8568  GO:0042254  PARTICIPATES_GpBP\n",
       "1  UBERON:0002450       51316      EXPRESSES_AeG\n",
       "2            4893    PC7_8430  PARTICIPATES_GpPW\n",
       "3  UBERON:0002185       55186      EXPRESSES_AeG\n",
       "4          119504  GO:0033047  PARTICIPATES_GpBP"
      ]
     },
     "execution_count": 12,
     "metadata": {},
     "output_type": "execute_result"
    }
   ],
   "source": [
    "hedges.head()"
   ]
  },
  {
   "cell_type": "markdown",
   "metadata": {},
   "source": [
    "## Convert Hetionet edges"
   ]
  },
  {
   "cell_type": "code",
   "execution_count": 13,
   "metadata": {},
   "outputs": [],
   "source": [
    "fhedges = (hedges\n",
    "    # convert source node ids\n",
    "    .merge(\n",
    "        hnodes[[\"hetio_id\", \"final_id\", \"fin_type\"]],\n",
    "        how=\"inner\", left_on=\"source_id\", right_on=\"hetio_id\"\n",
    "    )\n",
    "    .drop([\"source_id\", \"hetio_id\"], axis=1)\n",
    "    .rename(columns={\n",
    "        \"final_id\": \"source_fid\",\n",
    "        \"fin_type\": \"source_stype\"\n",
    "    })\n",
    "     \n",
    "    # convert target node ids\n",
    "    .merge(\n",
    "        hnodes[[\"hetio_id\", \"final_id\", \"fin_type\"]],\n",
    "        how=\"inner\", left_on=\"target_id\", right_on=\"hetio_id\"\n",
    "    )\n",
    "    .drop([\"target_id\", \"hetio_id\"], axis=1)\n",
    "    .rename(columns={\n",
    "        \"final_id\": \"target_fid\",\n",
    "        \"fin_type\": \"target_stype\"\n",
    "    })\n",
    "     \n",
    "    .rename(columns={\"het_etype\": \"edge_type\"})\n",
    "\n",
    "    # change edge types\n",
    "    .merge(\n",
    "        (res\n",
    "            .query(\"final_edge_type != 'delete'\")\n",
    "            [[\"source_stype\", \"target_stype\", \"edge_type\", \"final_edge_type\"]]\n",
    "        ),\n",
    "        how=\"inner\", on=[\"source_stype\", \"target_stype\", \"edge_type\"]\n",
    "    )\n",
    "    .drop(\"edge_type\", axis=1)\n",
    "     \n",
    "    .assign(origin = \"hetionet\")\n",
    "    .drop_duplicates()\n",
    "    .reset_index(drop=True)\n",
    ")"
   ]
  },
  {
   "cell_type": "code",
   "execution_count": 14,
   "metadata": {},
   "outputs": [
    {
     "data": {
      "text/plain": [
       "(2647660, 6)"
      ]
     },
     "execution_count": 14,
     "metadata": {},
     "output_type": "execute_result"
    }
   ],
   "source": [
    "fhedges.shape"
   ]
  },
  {
   "cell_type": "code",
   "execution_count": 15,
   "metadata": {},
   "outputs": [
    {
     "data": {
      "text/html": [
       "<div>\n",
       "<style scoped>\n",
       "    .dataframe tbody tr th:only-of-type {\n",
       "        vertical-align: middle;\n",
       "    }\n",
       "\n",
       "    .dataframe tbody tr th {\n",
       "        vertical-align: top;\n",
       "    }\n",
       "\n",
       "    .dataframe thead th {\n",
       "        text-align: right;\n",
       "    }\n",
       "</style>\n",
       "<table border=\"1\" class=\"dataframe\">\n",
       "  <thead>\n",
       "    <tr style=\"text-align: right;\">\n",
       "      <th></th>\n",
       "      <th>source_fid</th>\n",
       "      <th>source_stype</th>\n",
       "      <th>target_fid</th>\n",
       "      <th>target_stype</th>\n",
       "      <th>final_edge_type</th>\n",
       "      <th>origin</th>\n",
       "    </tr>\n",
       "  </thead>\n",
       "  <tbody>\n",
       "    <tr>\n",
       "      <th>0</th>\n",
       "      <td>UMLS:C1857700</td>\n",
       "      <td>Genes &amp; Molecular Sequences</td>\n",
       "      <td>GO:0042254</td>\n",
       "      <td>Physiology</td>\n",
       "      <td>AFFECTS_GafPS</td>\n",
       "      <td>hetionet</td>\n",
       "    </tr>\n",
       "    <tr>\n",
       "      <th>1</th>\n",
       "      <td>UMLS:C1419751</td>\n",
       "      <td>Genes &amp; Molecular Sequences</td>\n",
       "      <td>GO:0042254</td>\n",
       "      <td>Physiology</td>\n",
       "      <td>AFFECTS_GafPS</td>\n",
       "      <td>hetionet</td>\n",
       "    </tr>\n",
       "    <tr>\n",
       "      <th>2</th>\n",
       "      <td>UMLS:C1335641</td>\n",
       "      <td>Genes &amp; Molecular Sequences</td>\n",
       "      <td>GO:0042254</td>\n",
       "      <td>Physiology</td>\n",
       "      <td>AFFECTS_GafPS</td>\n",
       "      <td>hetionet</td>\n",
       "    </tr>\n",
       "    <tr>\n",
       "      <th>3</th>\n",
       "      <td>UMLS:C1419752</td>\n",
       "      <td>Genes &amp; Molecular Sequences</td>\n",
       "      <td>GO:0042254</td>\n",
       "      <td>Physiology</td>\n",
       "      <td>AFFECTS_GafPS</td>\n",
       "      <td>hetionet</td>\n",
       "    </tr>\n",
       "    <tr>\n",
       "      <th>4</th>\n",
       "      <td>UMLS:C1422367</td>\n",
       "      <td>Genes &amp; Molecular Sequences</td>\n",
       "      <td>GO:0042254</td>\n",
       "      <td>Physiology</td>\n",
       "      <td>AFFECTS_GafPS</td>\n",
       "      <td>hetionet</td>\n",
       "    </tr>\n",
       "  </tbody>\n",
       "</table>\n",
       "</div>"
      ],
      "text/plain": [
       "      source_fid                 source_stype  target_fid target_stype  \\\n",
       "0  UMLS:C1857700  Genes & Molecular Sequences  GO:0042254   Physiology   \n",
       "1  UMLS:C1419751  Genes & Molecular Sequences  GO:0042254   Physiology   \n",
       "2  UMLS:C1335641  Genes & Molecular Sequences  GO:0042254   Physiology   \n",
       "3  UMLS:C1419752  Genes & Molecular Sequences  GO:0042254   Physiology   \n",
       "4  UMLS:C1422367  Genes & Molecular Sequences  GO:0042254   Physiology   \n",
       "\n",
       "  final_edge_type    origin  \n",
       "0   AFFECTS_GafPS  hetionet  \n",
       "1   AFFECTS_GafPS  hetionet  \n",
       "2   AFFECTS_GafPS  hetionet  \n",
       "3   AFFECTS_GafPS  hetionet  \n",
       "4   AFFECTS_GafPS  hetionet  "
      ]
     },
     "execution_count": 15,
     "metadata": {},
     "output_type": "execute_result"
    }
   ],
   "source": [
    "fhedges.head()"
   ]
  },
  {
   "cell_type": "markdown",
   "metadata": {},
   "source": [
    "---"
   ]
  },
  {
   "cell_type": "markdown",
   "metadata": {},
   "source": [
    "## Convert SemmedDB edges to their final types"
   ]
  },
  {
   "cell_type": "markdown",
   "metadata": {},
   "source": [
    "### Read SemmedDB nodes"
   ]
  },
  {
   "cell_type": "code",
   "execution_count": 16,
   "metadata": {},
   "outputs": [],
   "source": [
    "snodes = pd.read_csv(\"../data/semmeddb/no_treats/semmeddb_no_treats_nodes.tsv\", sep='\\t')"
   ]
  },
  {
   "cell_type": "code",
   "execution_count": 17,
   "metadata": {},
   "outputs": [
    {
     "data": {
      "text/plain": [
       "(210375, 3)"
      ]
     },
     "execution_count": 17,
     "metadata": {},
     "output_type": "execute_result"
    }
   ],
   "source": [
    "snodes.shape"
   ]
  },
  {
   "cell_type": "code",
   "execution_count": 18,
   "metadata": {},
   "outputs": [
    {
     "data": {
      "text/html": [
       "<div>\n",
       "<style scoped>\n",
       "    .dataframe tbody tr th:only-of-type {\n",
       "        vertical-align: middle;\n",
       "    }\n",
       "\n",
       "    .dataframe tbody tr th {\n",
       "        vertical-align: top;\n",
       "    }\n",
       "\n",
       "    .dataframe thead th {\n",
       "        text-align: right;\n",
       "    }\n",
       "</style>\n",
       "<table border=\"1\" class=\"dataframe\">\n",
       "  <thead>\n",
       "    <tr style=\"text-align: right;\">\n",
       "      <th></th>\n",
       "      <th>node_id</th>\n",
       "      <th>node_name</th>\n",
       "      <th>node_type</th>\n",
       "    </tr>\n",
       "  </thead>\n",
       "  <tbody>\n",
       "    <tr>\n",
       "      <th>0</th>\n",
       "      <td>DOID:0050545</td>\n",
       "      <td>visceral heterotaxy</td>\n",
       "      <td>Disorders</td>\n",
       "    </tr>\n",
       "    <tr>\n",
       "      <th>1</th>\n",
       "      <td>DOID:0050591</td>\n",
       "      <td>tooth agenesis</td>\n",
       "      <td>Disorders</td>\n",
       "    </tr>\n",
       "    <tr>\n",
       "      <th>2</th>\n",
       "      <td>DOID:0060061</td>\n",
       "      <td>cutaneous T cell lymphoma</td>\n",
       "      <td>Disorders</td>\n",
       "    </tr>\n",
       "    <tr>\n",
       "      <th>3</th>\n",
       "      <td>DOID:0060073</td>\n",
       "      <td>lymphatic system cancer</td>\n",
       "      <td>Disorders</td>\n",
       "    </tr>\n",
       "    <tr>\n",
       "      <th>4</th>\n",
       "      <td>DOID:0060119</td>\n",
       "      <td>pharynx cancer</td>\n",
       "      <td>Disorders</td>\n",
       "    </tr>\n",
       "  </tbody>\n",
       "</table>\n",
       "</div>"
      ],
      "text/plain": [
       "        node_id                  node_name  node_type\n",
       "0  DOID:0050545        visceral heterotaxy  Disorders\n",
       "1  DOID:0050591             tooth agenesis  Disorders\n",
       "2  DOID:0060061  cutaneous T cell lymphoma  Disorders\n",
       "3  DOID:0060073    lymphatic system cancer  Disorders\n",
       "4  DOID:0060119             pharynx cancer  Disorders"
      ]
     },
     "execution_count": 18,
     "metadata": {},
     "output_type": "execute_result"
    }
   ],
   "source": [
    "snodes.head()"
   ]
  },
  {
   "cell_type": "markdown",
   "metadata": {},
   "source": [
    "### Read SemmedDB edges"
   ]
  },
  {
   "cell_type": "code",
   "execution_count": 19,
   "metadata": {},
   "outputs": [],
   "source": [
    "sedges = (pd\n",
    "    .read_csv(\"../data/semmeddb/no_treats/semmeddb_no_treats_edges.tsv\", sep='\\t')\n",
    "    .drop([\"pmids\", \"n_pmids\"], axis=1)\n",
    ")"
   ]
  },
  {
   "cell_type": "code",
   "execution_count": 20,
   "metadata": {},
   "outputs": [
    {
     "data": {
      "text/plain": [
       "(9646780, 3)"
      ]
     },
     "execution_count": 20,
     "metadata": {},
     "output_type": "execute_result"
    }
   ],
   "source": [
    "sedges.shape"
   ]
  },
  {
   "cell_type": "code",
   "execution_count": 21,
   "metadata": {},
   "outputs": [
    {
     "data": {
      "text/html": [
       "<div>\n",
       "<style scoped>\n",
       "    .dataframe tbody tr th:only-of-type {\n",
       "        vertical-align: middle;\n",
       "    }\n",
       "\n",
       "    .dataframe tbody tr th {\n",
       "        vertical-align: top;\n",
       "    }\n",
       "\n",
       "    .dataframe thead th {\n",
       "        text-align: right;\n",
       "    }\n",
       "</style>\n",
       "<table border=\"1\" class=\"dataframe\">\n",
       "  <thead>\n",
       "    <tr style=\"text-align: right;\">\n",
       "      <th></th>\n",
       "      <th>source_id</th>\n",
       "      <th>target_id</th>\n",
       "      <th>edge_type</th>\n",
       "    </tr>\n",
       "  </thead>\n",
       "  <tbody>\n",
       "    <tr>\n",
       "      <th>0</th>\n",
       "      <td>DOID:0050545</td>\n",
       "      <td>UMLS:C0000768</td>\n",
       "      <td>ASSOCIATED_WITH_DOawDO</td>\n",
       "    </tr>\n",
       "    <tr>\n",
       "      <th>1</th>\n",
       "      <td>DOID:0050545</td>\n",
       "      <td>UMLS:C0000772</td>\n",
       "      <td>ASSOCIATED_WITH_DOawDO</td>\n",
       "    </tr>\n",
       "    <tr>\n",
       "      <th>2</th>\n",
       "      <td>DOID:0050545</td>\n",
       "      <td>UMLS:C0001792</td>\n",
       "      <td>AFFECTS_DOafLB</td>\n",
       "    </tr>\n",
       "    <tr>\n",
       "      <th>3</th>\n",
       "      <td>DOID:0050545</td>\n",
       "      <td>UMLS:C0002871</td>\n",
       "      <td>ASSOCIATED_WITH_DOawDO</td>\n",
       "    </tr>\n",
       "    <tr>\n",
       "      <th>4</th>\n",
       "      <td>DOID:0050545</td>\n",
       "      <td>UMLS:C0004245</td>\n",
       "      <td>ASSOCIATED_WITH_DOawDO</td>\n",
       "    </tr>\n",
       "  </tbody>\n",
       "</table>\n",
       "</div>"
      ],
      "text/plain": [
       "      source_id      target_id               edge_type\n",
       "0  DOID:0050545  UMLS:C0000768  ASSOCIATED_WITH_DOawDO\n",
       "1  DOID:0050545  UMLS:C0000772  ASSOCIATED_WITH_DOawDO\n",
       "2  DOID:0050545  UMLS:C0001792          AFFECTS_DOafLB\n",
       "3  DOID:0050545  UMLS:C0002871  ASSOCIATED_WITH_DOawDO\n",
       "4  DOID:0050545  UMLS:C0004245  ASSOCIATED_WITH_DOawDO"
      ]
     },
     "execution_count": 21,
     "metadata": {},
     "output_type": "execute_result"
    }
   ],
   "source": [
    "sedges.head()"
   ]
  },
  {
   "cell_type": "markdown",
   "metadata": {},
   "source": [
    "## Convert SemmedDB edges to their final types"
   ]
  },
  {
   "cell_type": "code",
   "execution_count": 22,
   "metadata": {},
   "outputs": [],
   "source": [
    "fsedges = (sedges\n",
    "    # add in source node type\n",
    "    .merge(\n",
    "        snodes.drop(\"node_name\", axis=1),\n",
    "        how=\"inner\", left_on=\"source_id\", right_on=\"node_id\"\n",
    "    )\n",
    "    .drop(\"node_id\", axis=1)\n",
    "    .rename(columns={\"node_type\": \"source_stype\"})\n",
    "\n",
    "    # add in target node type\n",
    "    .merge(\n",
    "        snodes.drop(\"node_name\", axis=1),\n",
    "        how=\"inner\", left_on=\"target_id\", right_on=\"node_id\"\n",
    "    )\n",
    "    .drop(\"node_id\", axis=1)\n",
    "    .rename(columns={\"node_type\": \"target_stype\"})\n",
    "\n",
    "    .rename(columns={\n",
    "        \"source_id\": \"source_fid\",\n",
    "        \"target_id\": \"target_fid\",\n",
    "    })\n",
    "           \n",
    "    # change edge types\n",
    "    .merge(\n",
    "        (res\n",
    "            .query(\"final_edge_type != 'delete'\")\n",
    "            [[\"source_stype\", \"target_stype\", \"edge_type\", \"final_edge_type\"]]\n",
    "        ),\n",
    "        how=\"inner\", on=[\"source_stype\", \"target_stype\", \"edge_type\"]\n",
    "    )\n",
    "    .drop(\"edge_type\", axis=1)\n",
    "     \n",
    "    .assign(origin = \"semmeddb\")\n",
    "    .drop_duplicates()\n",
    "    .reset_index(drop=True)\n",
    ")"
   ]
  },
  {
   "cell_type": "code",
   "execution_count": 23,
   "metadata": {},
   "outputs": [
    {
     "data": {
      "text/plain": [
       "(9646780, 6)"
      ]
     },
     "execution_count": 23,
     "metadata": {},
     "output_type": "execute_result"
    }
   ],
   "source": [
    "fsedges.shape"
   ]
  },
  {
   "cell_type": "code",
   "execution_count": 24,
   "metadata": {
    "scrolled": true
   },
   "outputs": [
    {
     "data": {
      "text/html": [
       "<div>\n",
       "<style scoped>\n",
       "    .dataframe tbody tr th:only-of-type {\n",
       "        vertical-align: middle;\n",
       "    }\n",
       "\n",
       "    .dataframe tbody tr th {\n",
       "        vertical-align: top;\n",
       "    }\n",
       "\n",
       "    .dataframe thead th {\n",
       "        text-align: right;\n",
       "    }\n",
       "</style>\n",
       "<table border=\"1\" class=\"dataframe\">\n",
       "  <thead>\n",
       "    <tr style=\"text-align: right;\">\n",
       "      <th></th>\n",
       "      <th>source_fid</th>\n",
       "      <th>target_fid</th>\n",
       "      <th>source_stype</th>\n",
       "      <th>target_stype</th>\n",
       "      <th>final_edge_type</th>\n",
       "      <th>origin</th>\n",
       "    </tr>\n",
       "  </thead>\n",
       "  <tbody>\n",
       "    <tr>\n",
       "      <th>0</th>\n",
       "      <td>DOID:0050545</td>\n",
       "      <td>UMLS:C0000768</td>\n",
       "      <td>Disorders</td>\n",
       "      <td>Disorders</td>\n",
       "      <td>ASSOCIATED_WITH_DOawDO</td>\n",
       "      <td>semmeddb</td>\n",
       "    </tr>\n",
       "    <tr>\n",
       "      <th>1</th>\n",
       "      <td>DOID:0050591</td>\n",
       "      <td>UMLS:C0000768</td>\n",
       "      <td>Disorders</td>\n",
       "      <td>Disorders</td>\n",
       "      <td>ASSOCIATED_WITH_DOawDO</td>\n",
       "      <td>semmeddb</td>\n",
       "    </tr>\n",
       "    <tr>\n",
       "      <th>2</th>\n",
       "      <td>DOID:0060668</td>\n",
       "      <td>UMLS:C0000768</td>\n",
       "      <td>Disorders</td>\n",
       "      <td>Disorders</td>\n",
       "      <td>ASSOCIATED_WITH_DOawDO</td>\n",
       "      <td>semmeddb</td>\n",
       "    </tr>\n",
       "    <tr>\n",
       "      <th>3</th>\n",
       "      <td>UMLS:C0000727</td>\n",
       "      <td>UMLS:C0000768</td>\n",
       "      <td>Disorders</td>\n",
       "      <td>Disorders</td>\n",
       "      <td>ASSOCIATED_WITH_DOawDO</td>\n",
       "      <td>semmeddb</td>\n",
       "    </tr>\n",
       "    <tr>\n",
       "      <th>4</th>\n",
       "      <td>UMLS:C0000737</td>\n",
       "      <td>UMLS:C0000768</td>\n",
       "      <td>Disorders</td>\n",
       "      <td>Disorders</td>\n",
       "      <td>ASSOCIATED_WITH_DOawDO</td>\n",
       "      <td>semmeddb</td>\n",
       "    </tr>\n",
       "  </tbody>\n",
       "</table>\n",
       "</div>"
      ],
      "text/plain": [
       "      source_fid     target_fid source_stype target_stype  \\\n",
       "0   DOID:0050545  UMLS:C0000768    Disorders    Disorders   \n",
       "1   DOID:0050591  UMLS:C0000768    Disorders    Disorders   \n",
       "2   DOID:0060668  UMLS:C0000768    Disorders    Disorders   \n",
       "3  UMLS:C0000727  UMLS:C0000768    Disorders    Disorders   \n",
       "4  UMLS:C0000737  UMLS:C0000768    Disorders    Disorders   \n",
       "\n",
       "          final_edge_type    origin  \n",
       "0  ASSOCIATED_WITH_DOawDO  semmeddb  \n",
       "1  ASSOCIATED_WITH_DOawDO  semmeddb  \n",
       "2  ASSOCIATED_WITH_DOawDO  semmeddb  \n",
       "3  ASSOCIATED_WITH_DOawDO  semmeddb  \n",
       "4  ASSOCIATED_WITH_DOawDO  semmeddb  "
      ]
     },
     "execution_count": 24,
     "metadata": {},
     "output_type": "execute_result"
    }
   ],
   "source": [
    "fsedges.head()"
   ]
  },
  {
   "cell_type": "markdown",
   "metadata": {},
   "source": [
    "---"
   ]
  },
  {
   "cell_type": "markdown",
   "metadata": {},
   "source": [
    "## Final results and write to file"
   ]
  },
  {
   "cell_type": "code",
   "execution_count": 25,
   "metadata": {},
   "outputs": [],
   "source": [
    "edges_final = (fsedges\n",
    "    .merge(\n",
    "        fhedges, how=\"outer\",\n",
    "        on=[\"source_fid\", \"target_fid\", \"final_edge_type\"]\n",
    "    )\n",
    "    .assign(\n",
    "        source_stype = lambda df: df[\"source_stype_x\"].fillna(df[\"source_stype_y\"]),\n",
    "        target_stype = lambda df: df[\"target_stype_x\"].fillna(df[\"target_stype_y\"]),\n",
    "    )\n",
    "    .drop([\n",
    "        \"source_stype_x\", \"source_stype_y\",\n",
    "        \"target_stype_x\", \"target_stype_y\"], axis=1\n",
    "    )\n",
    "    .fillna(False)\n",
    "    .replace({\n",
    "        \"semmeddb\": True,\n",
    "        \"hetionet\": True\n",
    "    })\n",
    "    .rename(columns={\n",
    "        \"origin_x\": \"in_semmeddb\",\n",
    "        \"origin_y\": \"in_hetionet\"\n",
    "    })\n",
    "    .reset_index(drop=True)\n",
    ")"
   ]
  },
  {
   "cell_type": "code",
   "execution_count": 26,
   "metadata": {},
   "outputs": [
    {
     "data": {
      "text/plain": [
       "(12232901, 7)"
      ]
     },
     "execution_count": 26,
     "metadata": {},
     "output_type": "execute_result"
    }
   ],
   "source": [
    "edges_final.shape"
   ]
  },
  {
   "cell_type": "code",
   "execution_count": 27,
   "metadata": {},
   "outputs": [
    {
     "data": {
      "text/html": [
       "<div>\n",
       "<style scoped>\n",
       "    .dataframe tbody tr th:only-of-type {\n",
       "        vertical-align: middle;\n",
       "    }\n",
       "\n",
       "    .dataframe tbody tr th {\n",
       "        vertical-align: top;\n",
       "    }\n",
       "\n",
       "    .dataframe thead th {\n",
       "        text-align: right;\n",
       "    }\n",
       "</style>\n",
       "<table border=\"1\" class=\"dataframe\">\n",
       "  <thead>\n",
       "    <tr style=\"text-align: right;\">\n",
       "      <th></th>\n",
       "      <th>source_fid</th>\n",
       "      <th>target_fid</th>\n",
       "      <th>final_edge_type</th>\n",
       "      <th>in_semmeddb</th>\n",
       "      <th>in_hetionet</th>\n",
       "      <th>source_stype</th>\n",
       "      <th>target_stype</th>\n",
       "    </tr>\n",
       "  </thead>\n",
       "  <tbody>\n",
       "    <tr>\n",
       "      <th>0</th>\n",
       "      <td>DOID:0050545</td>\n",
       "      <td>UMLS:C0000768</td>\n",
       "      <td>ASSOCIATED_WITH_DOawDO</td>\n",
       "      <td>True</td>\n",
       "      <td>False</td>\n",
       "      <td>Disorders</td>\n",
       "      <td>Disorders</td>\n",
       "    </tr>\n",
       "    <tr>\n",
       "      <th>1</th>\n",
       "      <td>DOID:0050591</td>\n",
       "      <td>UMLS:C0000768</td>\n",
       "      <td>ASSOCIATED_WITH_DOawDO</td>\n",
       "      <td>True</td>\n",
       "      <td>False</td>\n",
       "      <td>Disorders</td>\n",
       "      <td>Disorders</td>\n",
       "    </tr>\n",
       "    <tr>\n",
       "      <th>2</th>\n",
       "      <td>DOID:0060668</td>\n",
       "      <td>UMLS:C0000768</td>\n",
       "      <td>ASSOCIATED_WITH_DOawDO</td>\n",
       "      <td>True</td>\n",
       "      <td>False</td>\n",
       "      <td>Disorders</td>\n",
       "      <td>Disorders</td>\n",
       "    </tr>\n",
       "    <tr>\n",
       "      <th>3</th>\n",
       "      <td>UMLS:C0000727</td>\n",
       "      <td>UMLS:C0000768</td>\n",
       "      <td>ASSOCIATED_WITH_DOawDO</td>\n",
       "      <td>True</td>\n",
       "      <td>False</td>\n",
       "      <td>Disorders</td>\n",
       "      <td>Disorders</td>\n",
       "    </tr>\n",
       "    <tr>\n",
       "      <th>4</th>\n",
       "      <td>UMLS:C0000737</td>\n",
       "      <td>UMLS:C0000768</td>\n",
       "      <td>ASSOCIATED_WITH_DOawDO</td>\n",
       "      <td>True</td>\n",
       "      <td>False</td>\n",
       "      <td>Disorders</td>\n",
       "      <td>Disorders</td>\n",
       "    </tr>\n",
       "  </tbody>\n",
       "</table>\n",
       "</div>"
      ],
      "text/plain": [
       "      source_fid     target_fid         final_edge_type  in_semmeddb  \\\n",
       "0   DOID:0050545  UMLS:C0000768  ASSOCIATED_WITH_DOawDO         True   \n",
       "1   DOID:0050591  UMLS:C0000768  ASSOCIATED_WITH_DOawDO         True   \n",
       "2   DOID:0060668  UMLS:C0000768  ASSOCIATED_WITH_DOawDO         True   \n",
       "3  UMLS:C0000727  UMLS:C0000768  ASSOCIATED_WITH_DOawDO         True   \n",
       "4  UMLS:C0000737  UMLS:C0000768  ASSOCIATED_WITH_DOawDO         True   \n",
       "\n",
       "   in_hetionet source_stype target_stype  \n",
       "0        False    Disorders    Disorders  \n",
       "1        False    Disorders    Disorders  \n",
       "2        False    Disorders    Disorders  \n",
       "3        False    Disorders    Disorders  \n",
       "4        False    Disorders    Disorders  "
      ]
     },
     "execution_count": 27,
     "metadata": {},
     "output_type": "execute_result"
    }
   ],
   "source": [
    "edges_final.head()"
   ]
  },
  {
   "cell_type": "markdown",
   "metadata": {},
   "source": [
    "## Merged network information"
   ]
  },
  {
   "cell_type": "code",
   "execution_count": 28,
   "metadata": {},
   "outputs": [
    {
     "data": {
      "text/plain": [
       "187318"
      ]
     },
     "execution_count": 28,
     "metadata": {},
     "output_type": "execute_result"
    }
   ],
   "source": [
    "edges_final[\"source_fid\"].nunique()"
   ]
  },
  {
   "cell_type": "code",
   "execution_count": 29,
   "metadata": {},
   "outputs": [
    {
     "data": {
      "text/plain": [
       "178641"
      ]
     },
     "execution_count": 29,
     "metadata": {},
     "output_type": "execute_result"
    }
   ],
   "source": [
    "edges_final[\"target_fid\"].nunique()"
   ]
  },
  {
   "cell_type": "markdown",
   "metadata": {},
   "source": [
    "### Number of edges shared by both networks"
   ]
  },
  {
   "cell_type": "code",
   "execution_count": 30,
   "metadata": {},
   "outputs": [
    {
     "data": {
      "text/plain": [
       "in_semmeddb  in_hetionet\n",
       "False        True           2586121\n",
       "True         False          9585241\n",
       "             True             61539\n",
       "dtype: int64"
      ]
     },
     "execution_count": 30,
     "metadata": {},
     "output_type": "execute_result"
    }
   ],
   "source": [
    "edges_final.groupby([\"in_semmeddb\", \"in_hetionet\"]).size()"
   ]
  },
  {
   "cell_type": "markdown",
   "metadata": {},
   "source": [
    "---"
   ]
  },
  {
   "cell_type": "markdown",
   "metadata": {},
   "source": [
    "## Merged network node list"
   ]
  },
  {
   "cell_type": "code",
   "execution_count": 31,
   "metadata": {},
   "outputs": [],
   "source": [
    "fin_nodes = (hnodes\n",
    "    [[\"name\", \"final_id\", \"fin_type\"]]\n",
    "    .rename(columns={\n",
    "        \"name\": \"node_name\",\n",
    "        \"final_id\": \"node_id\",\n",
    "        \"fin_type\": \"node_type\"\n",
    "    })\n",
    "    .assign(origin = \"hetionet\")\n",
    "             \n",
    "             \n",
    "    .merge(\n",
    "        snodes.assign(origin = \"semmeddb\"),\n",
    "        how=\"outer\", on=\"node_id\"\n",
    "    )\n",
    "             \n",
    "    .assign(\n",
    "        node_type = lambda df: df[\"node_type_y\"].fillna(df[\"node_type_x\"]),\n",
    "        node_name = lambda df: df[\"node_name_y\"].fillna(df[\"node_name_x\"])\n",
    "    )\n",
    "    .drop([\n",
    "        \"node_name_x\", \"node_name_y\",\n",
    "        \"node_type_x\", \"node_type_y\"], axis=1\n",
    "    )\n",
    "    .fillna(False)\n",
    "    .replace({\n",
    "        \"semmeddb\": True,\n",
    "        \"hetionet\": True\n",
    "    })\n",
    "    .rename(columns={\n",
    "        \"origin_x\": \"in_hetionet\",\n",
    "        \"origin_y\": \"in_semmeddb\"\n",
    "    })\n",
    "    .drop_duplicates()\n",
    "    .sort_values([\"node_id\", \"node_type\"])\n",
    "    .reset_index(drop=True)\n",
    ")"
   ]
  },
  {
   "cell_type": "code",
   "execution_count": 32,
   "metadata": {},
   "outputs": [
    {
     "data": {
      "text/plain": [
       "(231529, 5)"
      ]
     },
     "execution_count": 32,
     "metadata": {},
     "output_type": "execute_result"
    }
   ],
   "source": [
    "fin_nodes.shape"
   ]
  },
  {
   "cell_type": "code",
   "execution_count": 33,
   "metadata": {},
   "outputs": [
    {
     "data": {
      "text/html": [
       "<div>\n",
       "<style scoped>\n",
       "    .dataframe tbody tr th:only-of-type {\n",
       "        vertical-align: middle;\n",
       "    }\n",
       "\n",
       "    .dataframe tbody tr th {\n",
       "        vertical-align: top;\n",
       "    }\n",
       "\n",
       "    .dataframe thead th {\n",
       "        text-align: right;\n",
       "    }\n",
       "</style>\n",
       "<table border=\"1\" class=\"dataframe\">\n",
       "  <thead>\n",
       "    <tr style=\"text-align: right;\">\n",
       "      <th></th>\n",
       "      <th>node_id</th>\n",
       "      <th>in_hetionet</th>\n",
       "      <th>in_semmeddb</th>\n",
       "      <th>node_type</th>\n",
       "      <th>node_name</th>\n",
       "    </tr>\n",
       "  </thead>\n",
       "  <tbody>\n",
       "    <tr>\n",
       "      <th>0</th>\n",
       "      <td>100008586</td>\n",
       "      <td>True</td>\n",
       "      <td>False</td>\n",
       "      <td>Genes &amp; Molecular Sequences</td>\n",
       "      <td>GAGE12F</td>\n",
       "    </tr>\n",
       "    <tr>\n",
       "      <th>1</th>\n",
       "      <td>100033411</td>\n",
       "      <td>True</td>\n",
       "      <td>False</td>\n",
       "      <td>Genes &amp; Molecular Sequences</td>\n",
       "      <td>DUXB</td>\n",
       "    </tr>\n",
       "    <tr>\n",
       "      <th>2</th>\n",
       "      <td>100037417</td>\n",
       "      <td>True</td>\n",
       "      <td>False</td>\n",
       "      <td>Genes &amp; Molecular Sequences</td>\n",
       "      <td>DDTL</td>\n",
       "    </tr>\n",
       "    <tr>\n",
       "      <th>3</th>\n",
       "      <td>100049579</td>\n",
       "      <td>True</td>\n",
       "      <td>False</td>\n",
       "      <td>Genes &amp; Molecular Sequences</td>\n",
       "      <td>OCTN3</td>\n",
       "    </tr>\n",
       "    <tr>\n",
       "      <th>4</th>\n",
       "      <td>100101267</td>\n",
       "      <td>True</td>\n",
       "      <td>False</td>\n",
       "      <td>Genes &amp; Molecular Sequences</td>\n",
       "      <td>POM121C</td>\n",
       "    </tr>\n",
       "  </tbody>\n",
       "</table>\n",
       "</div>"
      ],
      "text/plain": [
       "     node_id  in_hetionet  in_semmeddb                    node_type node_name\n",
       "0  100008586         True        False  Genes & Molecular Sequences   GAGE12F\n",
       "1  100033411         True        False  Genes & Molecular Sequences      DUXB\n",
       "2  100037417         True        False  Genes & Molecular Sequences      DDTL\n",
       "3  100049579         True        False  Genes & Molecular Sequences     OCTN3\n",
       "4  100101267         True        False  Genes & Molecular Sequences   POM121C"
      ]
     },
     "execution_count": 33,
     "metadata": {},
     "output_type": "execute_result"
    }
   ],
   "source": [
    "fin_nodes.head()"
   ]
  },
  {
   "cell_type": "markdown",
   "metadata": {},
   "source": [
    "### Merged network node information"
   ]
  },
  {
   "cell_type": "code",
   "execution_count": 34,
   "metadata": {},
   "outputs": [
    {
     "data": {
      "text/plain": [
       "231529"
      ]
     },
     "execution_count": 34,
     "metadata": {},
     "output_type": "execute_result"
    }
   ],
   "source": [
    "fin_nodes[\"node_id\"].nunique()"
   ]
  },
  {
   "cell_type": "code",
   "execution_count": 35,
   "metadata": {},
   "outputs": [
    {
     "data": {
      "text/plain": [
       "in_hetionet  in_semmeddb\n",
       "False        True           183837\n",
       "True         False           21154\n",
       "             True            26538\n",
       "dtype: int64"
      ]
     },
     "execution_count": 35,
     "metadata": {},
     "output_type": "execute_result"
    }
   ],
   "source": [
    "fin_nodes.groupby([\"in_hetionet\", \"in_semmeddb\"]).size()"
   ]
  },
  {
   "cell_type": "code",
   "execution_count": 36,
   "metadata": {},
   "outputs": [
    {
     "data": {
      "text/plain": [
       "Chemicals & Drugs              81297\n",
       "Living Beings                  48191\n",
       "Disorders                      38188\n",
       "Genes & Molecular Sequences    25453\n",
       "Physiology                     19308\n",
       "Anatomy                        16135\n",
       "Pathway                         1822\n",
       "Phenomena                       1135\n",
       "Name: node_type, dtype: int64"
      ]
     },
     "execution_count": 36,
     "metadata": {},
     "output_type": "execute_result"
    }
   ],
   "source": [
    "fin_nodes[\"node_type\"].value_counts()"
   ]
  },
  {
   "cell_type": "markdown",
   "metadata": {},
   "source": [
    "---"
   ]
  },
  {
   "cell_type": "markdown",
   "metadata": {},
   "source": [
    "## Save merged network to disk"
   ]
  },
  {
   "cell_type": "code",
   "execution_count": 37,
   "metadata": {},
   "outputs": [],
   "source": [
    "fin_nodes.to_csv(\"../pipeline/merged_network/merged_hetionet_and_semmeddb_nodes.tsv\", sep='\\t', index=False)"
   ]
  },
  {
   "cell_type": "code",
   "execution_count": 38,
   "metadata": {},
   "outputs": [],
   "source": [
    "edges_final.to_csv(\"../pipeline/merged_network/merged_hetionet_and_semmeddb_edges.tsv\", sep='\\t', index=False)"
   ]
  }
 ],
 "metadata": {
  "kernelspec": {
   "display_name": "Python 3",
   "language": "python",
   "name": "python3"
  },
  "language_info": {
   "codemirror_mode": {
    "name": "ipython",
    "version": 3
   },
   "file_extension": ".py",
   "mimetype": "text/x-python",
   "name": "python",
   "nbconvert_exporter": "python",
   "pygments_lexer": "ipython3",
   "version": "3.6.7"
  }
 },
 "nbformat": 4,
 "nbformat_minor": 2
}
