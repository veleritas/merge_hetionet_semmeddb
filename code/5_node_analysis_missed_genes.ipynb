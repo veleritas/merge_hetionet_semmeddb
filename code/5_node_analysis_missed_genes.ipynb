{
 "cells": [
  {
   "cell_type": "markdown",
   "metadata": {},
   "source": [
    "# Examine genes in Hetionet which do not have UMLS CUIs\n",
    "\n",
    "2019-01-25\n",
    "\n",
    "Here we will see if there are ways to map missed genes in Hetionet to UMLS CUIs."
   ]
  },
  {
   "cell_type": "code",
   "execution_count": 1,
   "metadata": {},
   "outputs": [],
   "source": [
    "import pandas as pd\n",
    "import requests\n",
    "from tqdm import tqdm\n",
    "from collections import defaultdict"
   ]
  },
  {
   "cell_type": "markdown",
   "metadata": {},
   "source": [
    "## Read Hetionet to UMLS mapping file"
   ]
  },
  {
   "cell_type": "code",
   "execution_count": 2,
   "metadata": {},
   "outputs": [],
   "source": [
    "hnodes = pd.read_csv(\"../pipeline/hetionet/hetionet_nodes_umls.tsv\", sep='\\t')"
   ]
  },
  {
   "cell_type": "code",
   "execution_count": 3,
   "metadata": {},
   "outputs": [
    {
     "data": {
      "text/plain": [
       "(58700, 4)"
      ]
     },
     "execution_count": 3,
     "metadata": {},
     "output_type": "execute_result"
    }
   ],
   "source": [
    "hnodes.shape"
   ]
  },
  {
   "cell_type": "code",
   "execution_count": 4,
   "metadata": {},
   "outputs": [
    {
     "data": {
      "text/html": [
       "<div>\n",
       "<style scoped>\n",
       "    .dataframe tbody tr th:only-of-type {\n",
       "        vertical-align: middle;\n",
       "    }\n",
       "\n",
       "    .dataframe tbody tr th {\n",
       "        vertical-align: top;\n",
       "    }\n",
       "\n",
       "    .dataframe thead th {\n",
       "        text-align: right;\n",
       "    }\n",
       "</style>\n",
       "<table border=\"1\" class=\"dataframe\">\n",
       "  <thead>\n",
       "    <tr style=\"text-align: right;\">\n",
       "      <th></th>\n",
       "      <th>hetio_id</th>\n",
       "      <th>name</th>\n",
       "      <th>het_type</th>\n",
       "      <th>cui</th>\n",
       "    </tr>\n",
       "  </thead>\n",
       "  <tbody>\n",
       "    <tr>\n",
       "      <th>0</th>\n",
       "      <td>1</td>\n",
       "      <td>A1BG</td>\n",
       "      <td>Gene</td>\n",
       "      <td>UMLS:C1412045</td>\n",
       "    </tr>\n",
       "    <tr>\n",
       "      <th>1</th>\n",
       "      <td>10</td>\n",
       "      <td>NAT2</td>\n",
       "      <td>Gene</td>\n",
       "      <td>UMLS:C0796518</td>\n",
       "    </tr>\n",
       "    <tr>\n",
       "      <th>2</th>\n",
       "      <td>100</td>\n",
       "      <td>ADA</td>\n",
       "      <td>Gene</td>\n",
       "      <td>UMLS:C1412179</td>\n",
       "    </tr>\n",
       "    <tr>\n",
       "      <th>3</th>\n",
       "      <td>1000</td>\n",
       "      <td>CDH2</td>\n",
       "      <td>Gene</td>\n",
       "      <td>UMLS:C1413277</td>\n",
       "    </tr>\n",
       "    <tr>\n",
       "      <th>4</th>\n",
       "      <td>10000</td>\n",
       "      <td>AKT3</td>\n",
       "      <td>Gene</td>\n",
       "      <td>UMLS:C1332074</td>\n",
       "    </tr>\n",
       "  </tbody>\n",
       "</table>\n",
       "</div>"
      ],
      "text/plain": [
       "  hetio_id  name het_type            cui\n",
       "0        1  A1BG     Gene  UMLS:C1412045\n",
       "1       10  NAT2     Gene  UMLS:C0796518\n",
       "2      100   ADA     Gene  UMLS:C1412179\n",
       "3     1000  CDH2     Gene  UMLS:C1413277\n",
       "4    10000  AKT3     Gene  UMLS:C1332074"
      ]
     },
     "execution_count": 4,
     "metadata": {},
     "output_type": "execute_result"
    }
   ],
   "source": [
    "hnodes.head()"
   ]
  },
  {
   "cell_type": "markdown",
   "metadata": {},
   "source": [
    "## Select Hetionet genes with no CUI"
   ]
  },
  {
   "cell_type": "code",
   "execution_count": 5,
   "metadata": {},
   "outputs": [],
   "source": [
    "missed_genes = (hnodes\n",
    "    .assign(is_cui = lambda df: df[\"cui\"].str.startswith(\"UMLS:C\"))\n",
    "    .query(\"~is_cui and het_type == 'Gene'\")\n",
    "    .reset_index(drop=True)\n",
    ")"
   ]
  },
  {
   "cell_type": "code",
   "execution_count": 6,
   "metadata": {},
   "outputs": [
    {
     "data": {
      "text/plain": [
       "(1562, 5)"
      ]
     },
     "execution_count": 6,
     "metadata": {},
     "output_type": "execute_result"
    }
   ],
   "source": [
    "missed_genes.shape"
   ]
  },
  {
   "cell_type": "code",
   "execution_count": 7,
   "metadata": {},
   "outputs": [
    {
     "data": {
      "text/html": [
       "<div>\n",
       "<style scoped>\n",
       "    .dataframe tbody tr th:only-of-type {\n",
       "        vertical-align: middle;\n",
       "    }\n",
       "\n",
       "    .dataframe tbody tr th {\n",
       "        vertical-align: top;\n",
       "    }\n",
       "\n",
       "    .dataframe thead th {\n",
       "        text-align: right;\n",
       "    }\n",
       "</style>\n",
       "<table border=\"1\" class=\"dataframe\">\n",
       "  <thead>\n",
       "    <tr style=\"text-align: right;\">\n",
       "      <th></th>\n",
       "      <th>hetio_id</th>\n",
       "      <th>name</th>\n",
       "      <th>het_type</th>\n",
       "      <th>cui</th>\n",
       "      <th>is_cui</th>\n",
       "    </tr>\n",
       "  </thead>\n",
       "  <tbody>\n",
       "    <tr>\n",
       "      <th>0</th>\n",
       "      <td>100049579</td>\n",
       "      <td>OCTN3</td>\n",
       "      <td>Gene</td>\n",
       "      <td>100049579</td>\n",
       "      <td>False</td>\n",
       "    </tr>\n",
       "    <tr>\n",
       "      <th>1</th>\n",
       "      <td>100127889</td>\n",
       "      <td>C10orf131</td>\n",
       "      <td>Gene</td>\n",
       "      <td>100127889</td>\n",
       "      <td>False</td>\n",
       "    </tr>\n",
       "    <tr>\n",
       "      <th>2</th>\n",
       "      <td>100127971</td>\n",
       "      <td>LOC100127971</td>\n",
       "      <td>Gene</td>\n",
       "      <td>100127971</td>\n",
       "      <td>False</td>\n",
       "    </tr>\n",
       "    <tr>\n",
       "      <th>3</th>\n",
       "      <td>100127991</td>\n",
       "      <td>LOC100127991</td>\n",
       "      <td>Gene</td>\n",
       "      <td>100127991</td>\n",
       "      <td>False</td>\n",
       "    </tr>\n",
       "    <tr>\n",
       "      <th>4</th>\n",
       "      <td>100128001</td>\n",
       "      <td>LOC100128001</td>\n",
       "      <td>Gene</td>\n",
       "      <td>100128001</td>\n",
       "      <td>False</td>\n",
       "    </tr>\n",
       "  </tbody>\n",
       "</table>\n",
       "</div>"
      ],
      "text/plain": [
       "    hetio_id          name het_type        cui  is_cui\n",
       "0  100049579         OCTN3     Gene  100049579   False\n",
       "1  100127889     C10orf131     Gene  100127889   False\n",
       "2  100127971  LOC100127971     Gene  100127971   False\n",
       "3  100127991  LOC100127991     Gene  100127991   False\n",
       "4  100128001  LOC100128001     Gene  100128001   False"
      ]
     },
     "execution_count": 7,
     "metadata": {},
     "output_type": "execute_result"
    }
   ],
   "source": [
    "missed_genes.head()"
   ]
  },
  {
   "cell_type": "markdown",
   "metadata": {},
   "source": [
    "---"
   ]
  },
  {
   "cell_type": "markdown",
   "metadata": {},
   "source": [
    "## Differentiate between LOC genes and named genes"
   ]
  },
  {
   "cell_type": "code",
   "execution_count": 8,
   "metadata": {},
   "outputs": [],
   "source": [
    "missed_genes = missed_genes.assign(is_loc = lambda df: df[\"name\"].str.startswith(\"LOC\"))"
   ]
  },
  {
   "cell_type": "code",
   "execution_count": 9,
   "metadata": {},
   "outputs": [
    {
     "data": {
      "text/html": [
       "<div>\n",
       "<style scoped>\n",
       "    .dataframe tbody tr th:only-of-type {\n",
       "        vertical-align: middle;\n",
       "    }\n",
       "\n",
       "    .dataframe tbody tr th {\n",
       "        vertical-align: top;\n",
       "    }\n",
       "\n",
       "    .dataframe thead th {\n",
       "        text-align: right;\n",
       "    }\n",
       "</style>\n",
       "<table border=\"1\" class=\"dataframe\">\n",
       "  <thead>\n",
       "    <tr style=\"text-align: right;\">\n",
       "      <th></th>\n",
       "      <th>hetio_id</th>\n",
       "      <th>name</th>\n",
       "      <th>het_type</th>\n",
       "      <th>cui</th>\n",
       "      <th>is_cui</th>\n",
       "      <th>is_loc</th>\n",
       "    </tr>\n",
       "  </thead>\n",
       "  <tbody>\n",
       "    <tr>\n",
       "      <th>0</th>\n",
       "      <td>100049579</td>\n",
       "      <td>OCTN3</td>\n",
       "      <td>Gene</td>\n",
       "      <td>100049579</td>\n",
       "      <td>False</td>\n",
       "      <td>False</td>\n",
       "    </tr>\n",
       "    <tr>\n",
       "      <th>1</th>\n",
       "      <td>100127889</td>\n",
       "      <td>C10orf131</td>\n",
       "      <td>Gene</td>\n",
       "      <td>100127889</td>\n",
       "      <td>False</td>\n",
       "      <td>False</td>\n",
       "    </tr>\n",
       "    <tr>\n",
       "      <th>2</th>\n",
       "      <td>100127971</td>\n",
       "      <td>LOC100127971</td>\n",
       "      <td>Gene</td>\n",
       "      <td>100127971</td>\n",
       "      <td>False</td>\n",
       "      <td>True</td>\n",
       "    </tr>\n",
       "    <tr>\n",
       "      <th>3</th>\n",
       "      <td>100127991</td>\n",
       "      <td>LOC100127991</td>\n",
       "      <td>Gene</td>\n",
       "      <td>100127991</td>\n",
       "      <td>False</td>\n",
       "      <td>True</td>\n",
       "    </tr>\n",
       "    <tr>\n",
       "      <th>4</th>\n",
       "      <td>100128001</td>\n",
       "      <td>LOC100128001</td>\n",
       "      <td>Gene</td>\n",
       "      <td>100128001</td>\n",
       "      <td>False</td>\n",
       "      <td>True</td>\n",
       "    </tr>\n",
       "  </tbody>\n",
       "</table>\n",
       "</div>"
      ],
      "text/plain": [
       "    hetio_id          name het_type        cui  is_cui  is_loc\n",
       "0  100049579         OCTN3     Gene  100049579   False   False\n",
       "1  100127889     C10orf131     Gene  100127889   False   False\n",
       "2  100127971  LOC100127971     Gene  100127971   False    True\n",
       "3  100127991  LOC100127991     Gene  100127991   False    True\n",
       "4  100128001  LOC100128001     Gene  100128001   False    True"
      ]
     },
     "execution_count": 9,
     "metadata": {},
     "output_type": "execute_result"
    }
   ],
   "source": [
    "missed_genes.head()"
   ]
  },
  {
   "cell_type": "code",
   "execution_count": 10,
   "metadata": {},
   "outputs": [
    {
     "data": {
      "text/plain": [
       "True     1460\n",
       "False     102\n",
       "Name: is_loc, dtype: int64"
      ]
     },
     "execution_count": 10,
     "metadata": {},
     "output_type": "execute_result"
    }
   ],
   "source": [
    "missed_genes[\"is_loc\"].value_counts()"
   ]
  },
  {
   "cell_type": "markdown",
   "metadata": {},
   "source": [
    "## Functions for checking gene status"
   ]
  },
  {
   "cell_type": "code",
   "execution_count": 11,
   "metadata": {},
   "outputs": [],
   "source": [
    "def make_clickable(val):\n",
    "    return '<a href=\"https://www.ncbi.nlm.nih.gov/gene/{}\">{}</a>'.format(val, val)"
   ]
  },
  {
   "cell_type": "code",
   "execution_count": 12,
   "metadata": {},
   "outputs": [],
   "source": [
    "def parse(gene_id):\n",
    "    \"\"\"\n",
    "    Determine gene status and HGNC id\n",
    "    for Entrez gene ids using MyGene.info\n",
    "    \"\"\"\n",
    "\n",
    "    def process(data):\n",
    "        hgnc = data.get(\"HGNC\")\n",
    "        \n",
    "        if data[\"_id\"] != gene_id:\n",
    "            return (\"replaced\", hgnc)\n",
    "        \n",
    "        return (\"normal\", hgnc)\n",
    "    \n",
    "    url = \"http://mygene.info/v3/gene/{}\".format(gene_id)\n",
    "    resp = requests.get(url)\n",
    "    \n",
    "    if resp.status_code == 404:\n",
    "        return (\"withdrawn\", None)\n",
    "    \n",
    "    assert resp.status_code == 200\n",
    "    return process(resp.json())"
   ]
  },
  {
   "cell_type": "markdown",
   "metadata": {},
   "source": [
    "---"
   ]
  },
  {
   "cell_type": "markdown",
   "metadata": {},
   "source": [
    "## Get gene status for all missed genes"
   ]
  },
  {
   "cell_type": "code",
   "execution_count": 13,
   "metadata": {},
   "outputs": [
    {
     "name": "stderr",
     "output_type": "stream",
     "text": [
      "100%|██████████| 1562/1562 [02:21<00:00, 10.99it/s]\n"
     ]
    }
   ],
   "source": [
    "res = defaultdict(list)\n",
    "\n",
    "for row in tqdm(missed_genes.itertuples(), total=len(missed_genes)):\n",
    "    hetio_id = row.hetio_id\n",
    "    status, hgnc_id = parse(hetio_id)\n",
    "    \n",
    "    res[\"hetio_id\"].append(hetio_id)\n",
    "    res[\"gene_status\"].append(status)\n",
    "    res[\"hgnc_id\"].append(hgnc_id)\n",
    "    \n",
    "res = pd.DataFrame(res)"
   ]
  },
  {
   "cell_type": "code",
   "execution_count": 14,
   "metadata": {
    "scrolled": true
   },
   "outputs": [
    {
     "data": {
      "text/plain": [
       "(1562, 3)"
      ]
     },
     "execution_count": 14,
     "metadata": {},
     "output_type": "execute_result"
    }
   ],
   "source": [
    "res.shape"
   ]
  },
  {
   "cell_type": "code",
   "execution_count": 15,
   "metadata": {},
   "outputs": [
    {
     "data": {
      "text/html": [
       "<div>\n",
       "<style scoped>\n",
       "    .dataframe tbody tr th:only-of-type {\n",
       "        vertical-align: middle;\n",
       "    }\n",
       "\n",
       "    .dataframe tbody tr th {\n",
       "        vertical-align: top;\n",
       "    }\n",
       "\n",
       "    .dataframe thead th {\n",
       "        text-align: right;\n",
       "    }\n",
       "</style>\n",
       "<table border=\"1\" class=\"dataframe\">\n",
       "  <thead>\n",
       "    <tr style=\"text-align: right;\">\n",
       "      <th></th>\n",
       "      <th>hetio_id</th>\n",
       "      <th>gene_status</th>\n",
       "      <th>hgnc_id</th>\n",
       "    </tr>\n",
       "  </thead>\n",
       "  <tbody>\n",
       "    <tr>\n",
       "      <th>0</th>\n",
       "      <td>100049579</td>\n",
       "      <td>normal</td>\n",
       "      <td>None</td>\n",
       "    </tr>\n",
       "    <tr>\n",
       "      <th>1</th>\n",
       "      <td>100127889</td>\n",
       "      <td>replaced</td>\n",
       "      <td>31666</td>\n",
       "    </tr>\n",
       "    <tr>\n",
       "      <th>2</th>\n",
       "      <td>100127971</td>\n",
       "      <td>withdrawn</td>\n",
       "      <td>None</td>\n",
       "    </tr>\n",
       "    <tr>\n",
       "      <th>3</th>\n",
       "      <td>100127991</td>\n",
       "      <td>withdrawn</td>\n",
       "      <td>None</td>\n",
       "    </tr>\n",
       "    <tr>\n",
       "      <th>4</th>\n",
       "      <td>100128001</td>\n",
       "      <td>withdrawn</td>\n",
       "      <td>None</td>\n",
       "    </tr>\n",
       "  </tbody>\n",
       "</table>\n",
       "</div>"
      ],
      "text/plain": [
       "    hetio_id gene_status hgnc_id\n",
       "0  100049579      normal    None\n",
       "1  100127889    replaced   31666\n",
       "2  100127971   withdrawn    None\n",
       "3  100127991   withdrawn    None\n",
       "4  100128001   withdrawn    None"
      ]
     },
     "execution_count": 15,
     "metadata": {},
     "output_type": "execute_result"
    }
   ],
   "source": [
    "res.head()"
   ]
  },
  {
   "cell_type": "markdown",
   "metadata": {},
   "source": [
    "---"
   ]
  },
  {
   "cell_type": "markdown",
   "metadata": {},
   "source": [
    "## Merge gene status results with original data"
   ]
  },
  {
   "cell_type": "code",
   "execution_count": 16,
   "metadata": {
    "scrolled": false
   },
   "outputs": [],
   "source": [
    "final_res = (missed_genes\n",
    "    [[\"hetio_id\", \"name\", \"is_loc\"]]\n",
    "    .merge(res, how=\"inner\", on=\"hetio_id\")\n",
    ")"
   ]
  },
  {
   "cell_type": "code",
   "execution_count": 17,
   "metadata": {},
   "outputs": [
    {
     "data": {
      "text/plain": [
       "(1562, 5)"
      ]
     },
     "execution_count": 17,
     "metadata": {},
     "output_type": "execute_result"
    }
   ],
   "source": [
    "final_res.shape"
   ]
  },
  {
   "cell_type": "code",
   "execution_count": 18,
   "metadata": {},
   "outputs": [
    {
     "data": {
      "text/html": [
       "<div>\n",
       "<style scoped>\n",
       "    .dataframe tbody tr th:only-of-type {\n",
       "        vertical-align: middle;\n",
       "    }\n",
       "\n",
       "    .dataframe tbody tr th {\n",
       "        vertical-align: top;\n",
       "    }\n",
       "\n",
       "    .dataframe thead th {\n",
       "        text-align: right;\n",
       "    }\n",
       "</style>\n",
       "<table border=\"1\" class=\"dataframe\">\n",
       "  <thead>\n",
       "    <tr style=\"text-align: right;\">\n",
       "      <th></th>\n",
       "      <th>hetio_id</th>\n",
       "      <th>name</th>\n",
       "      <th>is_loc</th>\n",
       "      <th>gene_status</th>\n",
       "      <th>hgnc_id</th>\n",
       "    </tr>\n",
       "  </thead>\n",
       "  <tbody>\n",
       "    <tr>\n",
       "      <th>0</th>\n",
       "      <td>100049579</td>\n",
       "      <td>OCTN3</td>\n",
       "      <td>False</td>\n",
       "      <td>normal</td>\n",
       "      <td>None</td>\n",
       "    </tr>\n",
       "    <tr>\n",
       "      <th>1</th>\n",
       "      <td>100127889</td>\n",
       "      <td>C10orf131</td>\n",
       "      <td>False</td>\n",
       "      <td>replaced</td>\n",
       "      <td>31666</td>\n",
       "    </tr>\n",
       "    <tr>\n",
       "      <th>2</th>\n",
       "      <td>100127971</td>\n",
       "      <td>LOC100127971</td>\n",
       "      <td>True</td>\n",
       "      <td>withdrawn</td>\n",
       "      <td>None</td>\n",
       "    </tr>\n",
       "    <tr>\n",
       "      <th>3</th>\n",
       "      <td>100127991</td>\n",
       "      <td>LOC100127991</td>\n",
       "      <td>True</td>\n",
       "      <td>withdrawn</td>\n",
       "      <td>None</td>\n",
       "    </tr>\n",
       "    <tr>\n",
       "      <th>4</th>\n",
       "      <td>100128001</td>\n",
       "      <td>LOC100128001</td>\n",
       "      <td>True</td>\n",
       "      <td>withdrawn</td>\n",
       "      <td>None</td>\n",
       "    </tr>\n",
       "  </tbody>\n",
       "</table>\n",
       "</div>"
      ],
      "text/plain": [
       "    hetio_id          name  is_loc gene_status hgnc_id\n",
       "0  100049579         OCTN3   False      normal    None\n",
       "1  100127889     C10orf131   False    replaced   31666\n",
       "2  100127971  LOC100127971    True   withdrawn    None\n",
       "3  100127991  LOC100127991    True   withdrawn    None\n",
       "4  100128001  LOC100128001    True   withdrawn    None"
      ]
     },
     "execution_count": 18,
     "metadata": {},
     "output_type": "execute_result"
    }
   ],
   "source": [
    "final_res.head()"
   ]
  },
  {
   "cell_type": "markdown",
   "metadata": {},
   "source": [
    "---"
   ]
  },
  {
   "cell_type": "markdown",
   "metadata": {},
   "source": [
    "# Results\n",
    "\n",
    "## Gene status of all missed genes"
   ]
  },
  {
   "cell_type": "code",
   "execution_count": 19,
   "metadata": {},
   "outputs": [
    {
     "data": {
      "text/plain": [
       "withdrawn    48.65557\n",
       "normal       40.78105\n",
       "replaced     10.56338\n",
       "Name: gene_status, dtype: float64"
      ]
     },
     "execution_count": 19,
     "metadata": {},
     "output_type": "execute_result"
    }
   ],
   "source": [
    "final_res[\"gene_status\"].value_counts(normalize=True).multiply(100)"
   ]
  },
  {
   "cell_type": "markdown",
   "metadata": {},
   "source": [
    "### Gene status divided by LOC status"
   ]
  },
  {
   "cell_type": "code",
   "execution_count": 20,
   "metadata": {},
   "outputs": [
    {
     "data": {
      "text/plain": [
       "is_loc  gene_status\n",
       "False   withdrawn       41\n",
       "        normal          31\n",
       "        replaced        30\n",
       "True    withdrawn      719\n",
       "        normal         606\n",
       "        replaced       135\n",
       "Name: gene_status, dtype: int64"
      ]
     },
     "execution_count": 20,
     "metadata": {},
     "output_type": "execute_result"
    }
   ],
   "source": [
    "final_res.groupby(\"is_loc\")[\"gene_status\"].value_counts()"
   ]
  },
  {
   "cell_type": "code",
   "execution_count": 21,
   "metadata": {},
   "outputs": [
    {
     "data": {
      "text/plain": [
       "is_loc  gene_status\n",
       "False   withdrawn      40.196078\n",
       "        normal         30.392157\n",
       "        replaced       29.411765\n",
       "True    withdrawn      49.246575\n",
       "        normal         41.506849\n",
       "        replaced        9.246575\n",
       "Name: gene_status, dtype: float64"
      ]
     },
     "execution_count": 21,
     "metadata": {},
     "output_type": "execute_result"
    }
   ],
   "source": [
    "final_res.groupby(\"is_loc\")[\"gene_status\"].value_counts(normalize=True).multiply(100)"
   ]
  },
  {
   "cell_type": "markdown",
   "metadata": {},
   "source": [
    "## Do the non-withdrawn genes have HGNC ids?"
   ]
  },
  {
   "cell_type": "code",
   "execution_count": 22,
   "metadata": {},
   "outputs": [
    {
     "data": {
      "text/plain": [
       "171"
      ]
     },
     "execution_count": 22,
     "metadata": {},
     "output_type": "execute_result"
    }
   ],
   "source": [
    "final_res[\"hgnc_id\"].notnull().sum()"
   ]
  },
  {
   "cell_type": "code",
   "execution_count": 23,
   "metadata": {},
   "outputs": [
    {
     "data": {
      "text/plain": [
       "is_loc  gene_status\n",
       "False   normal          4\n",
       "        replaced       30\n",
       "        withdrawn       0\n",
       "True    normal         43\n",
       "        replaced       94\n",
       "        withdrawn       0\n",
       "dtype: int64"
      ]
     },
     "execution_count": 23,
     "metadata": {},
     "output_type": "execute_result"
    }
   ],
   "source": [
    "final_res.groupby([\"is_loc\", \"gene_status\"]).apply(lambda df: df[\"hgnc_id\"].notnull().sum())"
   ]
  },
  {
   "cell_type": "markdown",
   "metadata": {},
   "source": [
    "There are an additional 171 genes we can map to HGNC."
   ]
  },
  {
   "cell_type": "markdown",
   "metadata": {},
   "source": [
    "---"
   ]
  },
  {
   "cell_type": "markdown",
   "metadata": {},
   "source": [
    "## Save results to file"
   ]
  },
  {
   "cell_type": "code",
   "execution_count": 24,
   "metadata": {},
   "outputs": [],
   "source": [
    "final_res.to_csv(\"../pipeline/node_analysis_missed_genes.tsv\", sep='\\t', index=False)"
   ]
  },
  {
   "cell_type": "markdown",
   "metadata": {},
   "source": [
    "# Conclusion\n",
    "\n",
    "Most of the genes we could not map from Hetionet ids to UMLS CUIs are not mappable because the genes themselves are no longer considered to be genes. The vast majority of remaining genes do not have any cross references, and a very small subset of genes can be mapped to CUIs.\n",
    "\n",
    "We should probably remove any edges involving withdrawn genes from Hetionet, and map the remaining genes."
   ]
  }
 ],
 "metadata": {
  "kernelspec": {
   "display_name": "Python 3",
   "language": "python",
   "name": "python3"
  },
  "language_info": {
   "codemirror_mode": {
    "name": "ipython",
    "version": 3
   },
   "file_extension": ".py",
   "mimetype": "text/x-python",
   "name": "python",
   "nbconvert_exporter": "python",
   "pygments_lexer": "ipython3",
   "version": "3.6.7"
  }
 },
 "nbformat": 4,
 "nbformat_minor": 2
}
