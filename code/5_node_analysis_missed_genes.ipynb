{
 "cells": [
  {
   "cell_type": "markdown",
   "metadata": {},
   "source": [
    "# Examine genes in Hetionet which do not have UMLS CUIs\n",
    "\n",
    "2019-01-25\n",
    "\n",
    "Here we will see if there are ways to map missed genes in Hetionet to UMLS CUIs."
   ]
  },
  {
   "cell_type": "code",
   "execution_count": 1,
   "metadata": {},
   "outputs": [],
   "source": [
    "import pandas as pd\n",
    "import requests\n",
    "from tqdm import tqdm\n",
    "from collections import defaultdict"
   ]
  },
  {
   "cell_type": "markdown",
   "metadata": {},
   "source": [
    "## Read Hetionet to UMLS mapping file"
   ]
  },
  {
   "cell_type": "code",
   "execution_count": 2,
   "metadata": {},
   "outputs": [],
   "source": [
    "hnodes = pd.read_csv(\"../pipeline/hetionet/hetionet_nodes_umls.tsv\", sep='\\t')"
   ]
  },
  {
   "cell_type": "code",
   "execution_count": 3,
   "metadata": {},
   "outputs": [
    {
     "data": {
      "text/plain": [
       "(58700, 4)"
      ]
     },
     "execution_count": 3,
     "metadata": {},
     "output_type": "execute_result"
    }
   ],
   "source": [
    "hnodes.shape"
   ]
  },
  {
   "cell_type": "code",
   "execution_count": 4,
   "metadata": {},
   "outputs": [
    {
     "data": {
      "text/html": [
       "<div>\n",
       "<style scoped>\n",
       "    .dataframe tbody tr th:only-of-type {\n",
       "        vertical-align: middle;\n",
       "    }\n",
       "\n",
       "    .dataframe tbody tr th {\n",
       "        vertical-align: top;\n",
       "    }\n",
       "\n",
       "    .dataframe thead th {\n",
       "        text-align: right;\n",
       "    }\n",
       "</style>\n",
       "<table border=\"1\" class=\"dataframe\">\n",
       "  <thead>\n",
       "    <tr style=\"text-align: right;\">\n",
       "      <th></th>\n",
       "      <th>hetio_id</th>\n",
       "      <th>name</th>\n",
       "      <th>het_type</th>\n",
       "      <th>cui</th>\n",
       "    </tr>\n",
       "  </thead>\n",
       "  <tbody>\n",
       "    <tr>\n",
       "      <th>0</th>\n",
       "      <td>1</td>\n",
       "      <td>A1BG</td>\n",
       "      <td>Gene</td>\n",
       "      <td>UMLS:C1412045</td>\n",
       "    </tr>\n",
       "    <tr>\n",
       "      <th>1</th>\n",
       "      <td>10</td>\n",
       "      <td>NAT2</td>\n",
       "      <td>Gene</td>\n",
       "      <td>UMLS:C0796518</td>\n",
       "    </tr>\n",
       "    <tr>\n",
       "      <th>2</th>\n",
       "      <td>100</td>\n",
       "      <td>ADA</td>\n",
       "      <td>Gene</td>\n",
       "      <td>UMLS:C1412179</td>\n",
       "    </tr>\n",
       "    <tr>\n",
       "      <th>3</th>\n",
       "      <td>1000</td>\n",
       "      <td>CDH2</td>\n",
       "      <td>Gene</td>\n",
       "      <td>UMLS:C1413277</td>\n",
       "    </tr>\n",
       "    <tr>\n",
       "      <th>4</th>\n",
       "      <td>10000</td>\n",
       "      <td>AKT3</td>\n",
       "      <td>Gene</td>\n",
       "      <td>UMLS:C1332074</td>\n",
       "    </tr>\n",
       "  </tbody>\n",
       "</table>\n",
       "</div>"
      ],
      "text/plain": [
       "  hetio_id  name het_type            cui\n",
       "0        1  A1BG     Gene  UMLS:C1412045\n",
       "1       10  NAT2     Gene  UMLS:C0796518\n",
       "2      100   ADA     Gene  UMLS:C1412179\n",
       "3     1000  CDH2     Gene  UMLS:C1413277\n",
       "4    10000  AKT3     Gene  UMLS:C1332074"
      ]
     },
     "execution_count": 4,
     "metadata": {},
     "output_type": "execute_result"
    }
   ],
   "source": [
    "hnodes.head()"
   ]
  },
  {
   "cell_type": "markdown",
   "metadata": {},
   "source": [
    "## Grab unmapped genes"
   ]
  },
  {
   "cell_type": "code",
   "execution_count": 5,
   "metadata": {},
   "outputs": [],
   "source": [
    "missed_genes = (hnodes\n",
    "    .assign(is_cui = lambda df: df[\"cui\"].str.startswith(\"UMLS:C\"))\n",
    "    .query(\"~is_cui and het_type == 'Gene'\")\n",
    "    .reset_index(drop=True)\n",
    ")"
   ]
  },
  {
   "cell_type": "code",
   "execution_count": 6,
   "metadata": {},
   "outputs": [
    {
     "data": {
      "text/plain": [
       "(1562, 5)"
      ]
     },
     "execution_count": 6,
     "metadata": {},
     "output_type": "execute_result"
    }
   ],
   "source": [
    "missed_genes.shape"
   ]
  },
  {
   "cell_type": "code",
   "execution_count": 7,
   "metadata": {},
   "outputs": [
    {
     "data": {
      "text/html": [
       "<div>\n",
       "<style scoped>\n",
       "    .dataframe tbody tr th:only-of-type {\n",
       "        vertical-align: middle;\n",
       "    }\n",
       "\n",
       "    .dataframe tbody tr th {\n",
       "        vertical-align: top;\n",
       "    }\n",
       "\n",
       "    .dataframe thead th {\n",
       "        text-align: right;\n",
       "    }\n",
       "</style>\n",
       "<table border=\"1\" class=\"dataframe\">\n",
       "  <thead>\n",
       "    <tr style=\"text-align: right;\">\n",
       "      <th></th>\n",
       "      <th>hetio_id</th>\n",
       "      <th>name</th>\n",
       "      <th>het_type</th>\n",
       "      <th>cui</th>\n",
       "      <th>is_cui</th>\n",
       "    </tr>\n",
       "  </thead>\n",
       "  <tbody>\n",
       "    <tr>\n",
       "      <th>0</th>\n",
       "      <td>100049579</td>\n",
       "      <td>OCTN3</td>\n",
       "      <td>Gene</td>\n",
       "      <td>100049579</td>\n",
       "      <td>False</td>\n",
       "    </tr>\n",
       "    <tr>\n",
       "      <th>1</th>\n",
       "      <td>100127889</td>\n",
       "      <td>C10orf131</td>\n",
       "      <td>Gene</td>\n",
       "      <td>100127889</td>\n",
       "      <td>False</td>\n",
       "    </tr>\n",
       "    <tr>\n",
       "      <th>2</th>\n",
       "      <td>100127971</td>\n",
       "      <td>LOC100127971</td>\n",
       "      <td>Gene</td>\n",
       "      <td>100127971</td>\n",
       "      <td>False</td>\n",
       "    </tr>\n",
       "    <tr>\n",
       "      <th>3</th>\n",
       "      <td>100127991</td>\n",
       "      <td>LOC100127991</td>\n",
       "      <td>Gene</td>\n",
       "      <td>100127991</td>\n",
       "      <td>False</td>\n",
       "    </tr>\n",
       "    <tr>\n",
       "      <th>4</th>\n",
       "      <td>100128001</td>\n",
       "      <td>LOC100128001</td>\n",
       "      <td>Gene</td>\n",
       "      <td>100128001</td>\n",
       "      <td>False</td>\n",
       "    </tr>\n",
       "  </tbody>\n",
       "</table>\n",
       "</div>"
      ],
      "text/plain": [
       "    hetio_id          name het_type        cui  is_cui\n",
       "0  100049579         OCTN3     Gene  100049579   False\n",
       "1  100127889     C10orf131     Gene  100127889   False\n",
       "2  100127971  LOC100127971     Gene  100127971   False\n",
       "3  100127991  LOC100127991     Gene  100127991   False\n",
       "4  100128001  LOC100128001     Gene  100128001   False"
      ]
     },
     "execution_count": 7,
     "metadata": {},
     "output_type": "execute_result"
    }
   ],
   "source": [
    "missed_genes.head()"
   ]
  },
  {
   "cell_type": "markdown",
   "metadata": {},
   "source": [
    "---"
   ]
  },
  {
   "cell_type": "markdown",
   "metadata": {},
   "source": [
    "## LOC genes vs named genes"
   ]
  },
  {
   "cell_type": "code",
   "execution_count": 8,
   "metadata": {},
   "outputs": [],
   "source": [
    "missed_genes = missed_genes.assign(is_loc = lambda df: df[\"name\"].str.startswith(\"LOC\"))"
   ]
  },
  {
   "cell_type": "code",
   "execution_count": 9,
   "metadata": {},
   "outputs": [
    {
     "data": {
      "text/html": [
       "<div>\n",
       "<style scoped>\n",
       "    .dataframe tbody tr th:only-of-type {\n",
       "        vertical-align: middle;\n",
       "    }\n",
       "\n",
       "    .dataframe tbody tr th {\n",
       "        vertical-align: top;\n",
       "    }\n",
       "\n",
       "    .dataframe thead th {\n",
       "        text-align: right;\n",
       "    }\n",
       "</style>\n",
       "<table border=\"1\" class=\"dataframe\">\n",
       "  <thead>\n",
       "    <tr style=\"text-align: right;\">\n",
       "      <th></th>\n",
       "      <th>hetio_id</th>\n",
       "      <th>name</th>\n",
       "      <th>het_type</th>\n",
       "      <th>cui</th>\n",
       "      <th>is_cui</th>\n",
       "      <th>is_loc</th>\n",
       "    </tr>\n",
       "  </thead>\n",
       "  <tbody>\n",
       "    <tr>\n",
       "      <th>0</th>\n",
       "      <td>100049579</td>\n",
       "      <td>OCTN3</td>\n",
       "      <td>Gene</td>\n",
       "      <td>100049579</td>\n",
       "      <td>False</td>\n",
       "      <td>False</td>\n",
       "    </tr>\n",
       "    <tr>\n",
       "      <th>1</th>\n",
       "      <td>100127889</td>\n",
       "      <td>C10orf131</td>\n",
       "      <td>Gene</td>\n",
       "      <td>100127889</td>\n",
       "      <td>False</td>\n",
       "      <td>False</td>\n",
       "    </tr>\n",
       "    <tr>\n",
       "      <th>2</th>\n",
       "      <td>100127971</td>\n",
       "      <td>LOC100127971</td>\n",
       "      <td>Gene</td>\n",
       "      <td>100127971</td>\n",
       "      <td>False</td>\n",
       "      <td>True</td>\n",
       "    </tr>\n",
       "    <tr>\n",
       "      <th>3</th>\n",
       "      <td>100127991</td>\n",
       "      <td>LOC100127991</td>\n",
       "      <td>Gene</td>\n",
       "      <td>100127991</td>\n",
       "      <td>False</td>\n",
       "      <td>True</td>\n",
       "    </tr>\n",
       "    <tr>\n",
       "      <th>4</th>\n",
       "      <td>100128001</td>\n",
       "      <td>LOC100128001</td>\n",
       "      <td>Gene</td>\n",
       "      <td>100128001</td>\n",
       "      <td>False</td>\n",
       "      <td>True</td>\n",
       "    </tr>\n",
       "  </tbody>\n",
       "</table>\n",
       "</div>"
      ],
      "text/plain": [
       "    hetio_id          name het_type        cui  is_cui  is_loc\n",
       "0  100049579         OCTN3     Gene  100049579   False   False\n",
       "1  100127889     C10orf131     Gene  100127889   False   False\n",
       "2  100127971  LOC100127971     Gene  100127971   False    True\n",
       "3  100127991  LOC100127991     Gene  100127991   False    True\n",
       "4  100128001  LOC100128001     Gene  100128001   False    True"
      ]
     },
     "execution_count": 9,
     "metadata": {},
     "output_type": "execute_result"
    }
   ],
   "source": [
    "missed_genes.head()"
   ]
  },
  {
   "cell_type": "code",
   "execution_count": 10,
   "metadata": {},
   "outputs": [
    {
     "data": {
      "text/plain": [
       "True     1460\n",
       "False     102\n",
       "Name: is_loc, dtype: int64"
      ]
     },
     "execution_count": 10,
     "metadata": {},
     "output_type": "execute_result"
    }
   ],
   "source": [
    "missed_genes[\"is_loc\"].value_counts()"
   ]
  },
  {
   "cell_type": "markdown",
   "metadata": {},
   "source": [
    "## Functions for checking gene status"
   ]
  },
  {
   "cell_type": "code",
   "execution_count": 11,
   "metadata": {},
   "outputs": [],
   "source": [
    "def make_clickable(val):\n",
    "    return '<a href=\"https://www.ncbi.nlm.nih.gov/gene/{}\">{}</a>'.format(val, val)"
   ]
  },
  {
   "cell_type": "code",
   "execution_count": 12,
   "metadata": {},
   "outputs": [],
   "source": [
    "def parse(gene_id):\n",
    "    \"\"\"Get the status of a NCBI gene id\"\"\"\n",
    "\n",
    "    def process(html):\n",
    "        keywords = [\"This record was replaced\", \"WITHDRAWN\"]\n",
    "        status = [\"replaced\", \"withdrawn\"]\n",
    "\n",
    "        # check\n",
    "        res = [v in html for v in keywords]\n",
    "\n",
    "        if sum(res) == 2:\n",
    "            print(\"Gene id {} is both withdrawn and replaced\".format(gene_id))\n",
    "\n",
    "        for ans, value in zip(status, res):\n",
    "            if value:\n",
    "                return ans\n",
    "\n",
    "        return \"normal\"\n",
    "\n",
    "    \n",
    "    url = \"https://www.ncbi.nlm.nih.gov/gene/{}\".format(gene_id)\n",
    "\n",
    "    resp = requests.get(url)\n",
    "    assert resp.status_code == 200\n",
    "    \n",
    "    return process(resp.text)"
   ]
  },
  {
   "cell_type": "code",
   "execution_count": 13,
   "metadata": {},
   "outputs": [],
   "source": [
    "def get_status(df):\n",
    "    return df.assign(\n",
    "        gene_status = lambda df: df[\"hetio_id\"].map(parse)\n",
    "    )"
   ]
  },
  {
   "cell_type": "markdown",
   "metadata": {},
   "source": [
    "---"
   ]
  },
  {
   "cell_type": "markdown",
   "metadata": {},
   "source": [
    "## Sample named genes"
   ]
  },
  {
   "cell_type": "code",
   "execution_count": 14,
   "metadata": {},
   "outputs": [
    {
     "data": {
      "text/html": [
       "<style  type=\"text/css\" >\n",
       "</style>  \n",
       "<table id=\"T_64d84630_2334_11e9_b3da_3417eb9a9a44\" > \n",
       "<thead>    <tr> \n",
       "        <th class=\"blank level0\" ></th> \n",
       "        <th class=\"col_heading level0 col0\" >hetio_id</th> \n",
       "        <th class=\"col_heading level0 col1\" >name</th> \n",
       "        <th class=\"col_heading level0 col2\" >gene_status</th> \n",
       "    </tr></thead> \n",
       "<tbody>    <tr> \n",
       "        <th id=\"T_64d84630_2334_11e9_b3da_3417eb9a9a44level0_row0\" class=\"row_heading level0 row0\" >239</th> \n",
       "        <td id=\"T_64d84630_2334_11e9_b3da_3417eb9a9a44row0_col0\" class=\"data row0 col0\" ><a href=\"https://www.ncbi.nlm.nih.gov/gene/100861437\">100861437</a></td> \n",
       "        <td id=\"T_64d84630_2334_11e9_b3da_3417eb9a9a44row0_col1\" class=\"data row0 col1\" >NARR</td> \n",
       "        <td id=\"T_64d84630_2334_11e9_b3da_3417eb9a9a44row0_col2\" class=\"data row0 col2\" >replaced</td> \n",
       "    </tr>    <tr> \n",
       "        <th id=\"T_64d84630_2334_11e9_b3da_3417eb9a9a44level0_row1\" class=\"row_heading level0 row1\" >1435</th> \n",
       "        <td id=\"T_64d84630_2334_11e9_b3da_3417eb9a9a44row1_col0\" class=\"data row1 col0\" ><a href=\"https://www.ncbi.nlm.nih.gov/gene/389422\">389422</a></td> \n",
       "        <td id=\"T_64d84630_2334_11e9_b3da_3417eb9a9a44row1_col1\" class=\"data row1 col1\" >C6orf183</td> \n",
       "        <td id=\"T_64d84630_2334_11e9_b3da_3417eb9a9a44row1_col2\" class=\"data row1 col2\" >replaced</td> \n",
       "    </tr>    <tr> \n",
       "        <th id=\"T_64d84630_2334_11e9_b3da_3417eb9a9a44level0_row2\" class=\"row_heading level0 row2\" >175</th> \n",
       "        <td id=\"T_64d84630_2334_11e9_b3da_3417eb9a9a44row2_col0\" class=\"data row2 col0\" ><a href=\"https://www.ncbi.nlm.nih.gov/gene/100287859\">100287859</a></td> \n",
       "        <td id=\"T_64d84630_2334_11e9_b3da_3417eb9a9a44row2_col1\" class=\"data row2 col1\" >FAM197Y6</td> \n",
       "        <td id=\"T_64d84630_2334_11e9_b3da_3417eb9a9a44row2_col2\" class=\"data row2 col2\" >replaced</td> \n",
       "    </tr>    <tr> \n",
       "        <th id=\"T_64d84630_2334_11e9_b3da_3417eb9a9a44level0_row3\" class=\"row_heading level0 row3\" >1460</th> \n",
       "        <td id=\"T_64d84630_2334_11e9_b3da_3417eb9a9a44row3_col0\" class=\"data row3 col0\" ><a href=\"https://www.ncbi.nlm.nih.gov/gene/408186\">408186</a></td> \n",
       "        <td id=\"T_64d84630_2334_11e9_b3da_3417eb9a9a44row3_col1\" class=\"data row3 col1\" >OVOS</td> \n",
       "        <td id=\"T_64d84630_2334_11e9_b3da_3417eb9a9a44row3_col2\" class=\"data row3 col2\" >normal</td> \n",
       "    </tr>    <tr> \n",
       "        <th id=\"T_64d84630_2334_11e9_b3da_3417eb9a9a44level0_row4\" class=\"row_heading level0 row4\" >1349</th> \n",
       "        <td id=\"T_64d84630_2334_11e9_b3da_3417eb9a9a44row4_col0\" class=\"data row4 col0\" ><a href=\"https://www.ncbi.nlm.nih.gov/gene/2575\">2575</a></td> \n",
       "        <td id=\"T_64d84630_2334_11e9_b3da_3417eb9a9a44row4_col1\" class=\"data row4 col1\" >GAGE3</td> \n",
       "        <td id=\"T_64d84630_2334_11e9_b3da_3417eb9a9a44row4_col2\" class=\"data row4 col2\" >withdrawn</td> \n",
       "    </tr>    <tr> \n",
       "        <th id=\"T_64d84630_2334_11e9_b3da_3417eb9a9a44level0_row5\" class=\"row_heading level0 row5\" >1356</th> \n",
       "        <td id=\"T_64d84630_2334_11e9_b3da_3417eb9a9a44row5_col0\" class=\"data row5 col0\" ><a href=\"https://www.ncbi.nlm.nih.gov/gene/26120\">26120</a></td> \n",
       "        <td id=\"T_64d84630_2334_11e9_b3da_3417eb9a9a44row5_col1\" class=\"data row5 col1\" >DKFZP564C152</td> \n",
       "        <td id=\"T_64d84630_2334_11e9_b3da_3417eb9a9a44row5_col2\" class=\"data row5 col2\" >withdrawn</td> \n",
       "    </tr>    <tr> \n",
       "        <th id=\"T_64d84630_2334_11e9_b3da_3417eb9a9a44level0_row6\" class=\"row_heading level0 row6\" >1425</th> \n",
       "        <td id=\"T_64d84630_2334_11e9_b3da_3417eb9a9a44row6_col0\" class=\"data row6 col0\" ><a href=\"https://www.ncbi.nlm.nih.gov/gene/353138\">353138</a></td> \n",
       "        <td id=\"T_64d84630_2334_11e9_b3da_3417eb9a9a44row6_col1\" class=\"data row6 col1\" >LEP7</td> \n",
       "        <td id=\"T_64d84630_2334_11e9_b3da_3417eb9a9a44row6_col2\" class=\"data row6 col2\" >withdrawn</td> \n",
       "    </tr>    <tr> \n",
       "        <th id=\"T_64d84630_2334_11e9_b3da_3417eb9a9a44level0_row7\" class=\"row_heading level0 row7\" >1559</th> \n",
       "        <td id=\"T_64d84630_2334_11e9_b3da_3417eb9a9a44row7_col0\" class=\"data row7 col0\" ><a href=\"https://www.ncbi.nlm.nih.gov/gene/80761\">80761</a></td> \n",
       "        <td id=\"T_64d84630_2334_11e9_b3da_3417eb9a9a44row7_col1\" class=\"data row7 col1\" >UPK3B</td> \n",
       "        <td id=\"T_64d84630_2334_11e9_b3da_3417eb9a9a44row7_col2\" class=\"data row7 col2\" >replaced</td> \n",
       "    </tr>    <tr> \n",
       "        <th id=\"T_64d84630_2334_11e9_b3da_3417eb9a9a44level0_row8\" class=\"row_heading level0 row8\" >1428</th> \n",
       "        <td id=\"T_64d84630_2334_11e9_b3da_3417eb9a9a44row8_col0\" class=\"data row8 col0\" ><a href=\"https://www.ncbi.nlm.nih.gov/gene/388439\">388439</a></td> \n",
       "        <td id=\"T_64d84630_2334_11e9_b3da_3417eb9a9a44row8_col1\" class=\"data row8 col1\" >FLJ12120</td> \n",
       "        <td id=\"T_64d84630_2334_11e9_b3da_3417eb9a9a44row8_col2\" class=\"data row8 col2\" >withdrawn</td> \n",
       "    </tr>    <tr> \n",
       "        <th id=\"T_64d84630_2334_11e9_b3da_3417eb9a9a44level0_row9\" class=\"row_heading level0 row9\" >1446</th> \n",
       "        <td id=\"T_64d84630_2334_11e9_b3da_3417eb9a9a44row9_col0\" class=\"data row9 col0\" ><a href=\"https://www.ncbi.nlm.nih.gov/gene/399832\">399832</a></td> \n",
       "        <td id=\"T_64d84630_2334_11e9_b3da_3417eb9a9a44row9_col1\" class=\"data row9 col1\" >DKFZp686M1136</td> \n",
       "        <td id=\"T_64d84630_2334_11e9_b3da_3417eb9a9a44row9_col2\" class=\"data row9 col2\" >withdrawn</td> \n",
       "    </tr></tbody> \n",
       "</table> "
      ],
      "text/plain": [
       "<pandas.io.formats.style.Styler at 0x7f4d17599cc0>"
      ]
     },
     "execution_count": 14,
     "metadata": {},
     "output_type": "execute_result"
    }
   ],
   "source": [
    "(missed_genes\n",
    "    .query(\"~is_loc\")\n",
    "    .sample(10)\n",
    "    [[\"hetio_id\", \"name\"]]\n",
    "    .pipe(get_status)\n",
    ").style.format({\"hetio_id\": make_clickable})"
   ]
  },
  {
   "cell_type": "markdown",
   "metadata": {},
   "source": [
    "## Sample LOC genes"
   ]
  },
  {
   "cell_type": "code",
   "execution_count": 15,
   "metadata": {},
   "outputs": [
    {
     "data": {
      "text/html": [
       "<style  type=\"text/css\" >\n",
       "</style>  \n",
       "<table id=\"T_6fc2d57e_2334_11e9_b3da_3417eb9a9a44\" > \n",
       "<thead>    <tr> \n",
       "        <th class=\"blank level0\" ></th> \n",
       "        <th class=\"col_heading level0 col0\" >hetio_id</th> \n",
       "        <th class=\"col_heading level0 col1\" >name</th> \n",
       "        <th class=\"col_heading level0 col2\" >gene_status</th> \n",
       "    </tr></thead> \n",
       "<tbody>    <tr> \n",
       "        <th id=\"T_6fc2d57e_2334_11e9_b3da_3417eb9a9a44level0_row0\" class=\"row_heading level0 row0\" >827</th> \n",
       "        <td id=\"T_6fc2d57e_2334_11e9_b3da_3417eb9a9a44row0_col0\" class=\"data row0 col0\" ><a href=\"https://www.ncbi.nlm.nih.gov/gene/105371935\">105371935</a></td> \n",
       "        <td id=\"T_6fc2d57e_2334_11e9_b3da_3417eb9a9a44row0_col1\" class=\"data row0 col1\" >LOC105371935</td> \n",
       "        <td id=\"T_6fc2d57e_2334_11e9_b3da_3417eb9a9a44row0_col2\" class=\"data row0 col2\" >withdrawn</td> \n",
       "    </tr>    <tr> \n",
       "        <th id=\"T_6fc2d57e_2334_11e9_b3da_3417eb9a9a44level0_row1\" class=\"row_heading level0 row1\" >469</th> \n",
       "        <td id=\"T_6fc2d57e_2334_11e9_b3da_3417eb9a9a44row1_col0\" class=\"data row1 col0\" ><a href=\"https://www.ncbi.nlm.nih.gov/gene/102723330\">102723330</a></td> \n",
       "        <td id=\"T_6fc2d57e_2334_11e9_b3da_3417eb9a9a44row1_col1\" class=\"data row1 col1\" >LOC102723330</td> \n",
       "        <td id=\"T_6fc2d57e_2334_11e9_b3da_3417eb9a9a44row1_col2\" class=\"data row1 col2\" >normal</td> \n",
       "    </tr>    <tr> \n",
       "        <th id=\"T_6fc2d57e_2334_11e9_b3da_3417eb9a9a44level0_row2\" class=\"row_heading level0 row2\" >491</th> \n",
       "        <td id=\"T_6fc2d57e_2334_11e9_b3da_3417eb9a9a44row2_col0\" class=\"data row2 col0\" ><a href=\"https://www.ncbi.nlm.nih.gov/gene/102723730\">102723730</a></td> \n",
       "        <td id=\"T_6fc2d57e_2334_11e9_b3da_3417eb9a9a44row2_col1\" class=\"data row2 col1\" >LOC102723730</td> \n",
       "        <td id=\"T_6fc2d57e_2334_11e9_b3da_3417eb9a9a44row2_col2\" class=\"data row2 col2\" >normal</td> \n",
       "    </tr>    <tr> \n",
       "        <th id=\"T_6fc2d57e_2334_11e9_b3da_3417eb9a9a44level0_row3\" class=\"row_heading level0 row3\" >394</th> \n",
       "        <td id=\"T_6fc2d57e_2334_11e9_b3da_3417eb9a9a44row3_col0\" class=\"data row3 col0\" ><a href=\"https://www.ncbi.nlm.nih.gov/gene/101928948\">101928948</a></td> \n",
       "        <td id=\"T_6fc2d57e_2334_11e9_b3da_3417eb9a9a44row3_col1\" class=\"data row3 col1\" >LOC101928948</td> \n",
       "        <td id=\"T_6fc2d57e_2334_11e9_b3da_3417eb9a9a44row3_col2\" class=\"data row3 col2\" >normal</td> \n",
       "    </tr>    <tr> \n",
       "        <th id=\"T_6fc2d57e_2334_11e9_b3da_3417eb9a9a44level0_row4\" class=\"row_heading level0 row4\" >456</th> \n",
       "        <td id=\"T_6fc2d57e_2334_11e9_b3da_3417eb9a9a44row4_col0\" class=\"data row4 col0\" ><a href=\"https://www.ncbi.nlm.nih.gov/gene/101930075\">101930075</a></td> \n",
       "        <td id=\"T_6fc2d57e_2334_11e9_b3da_3417eb9a9a44row4_col1\" class=\"data row4 col1\" >LOC101930075</td> \n",
       "        <td id=\"T_6fc2d57e_2334_11e9_b3da_3417eb9a9a44row4_col2\" class=\"data row4 col2\" >withdrawn</td> \n",
       "    </tr>    <tr> \n",
       "        <th id=\"T_6fc2d57e_2334_11e9_b3da_3417eb9a9a44level0_row5\" class=\"row_heading level0 row5\" >136</th> \n",
       "        <td id=\"T_6fc2d57e_2334_11e9_b3da_3417eb9a9a44row5_col0\" class=\"data row5 col0\" ><a href=\"https://www.ncbi.nlm.nih.gov/gene/100131894\">100131894</a></td> \n",
       "        <td id=\"T_6fc2d57e_2334_11e9_b3da_3417eb9a9a44row5_col1\" class=\"data row5 col1\" >LOC100131894</td> \n",
       "        <td id=\"T_6fc2d57e_2334_11e9_b3da_3417eb9a9a44row5_col2\" class=\"data row5 col2\" >withdrawn</td> \n",
       "    </tr>    <tr> \n",
       "        <th id=\"T_6fc2d57e_2334_11e9_b3da_3417eb9a9a44level0_row6\" class=\"row_heading level0 row6\" >29</th> \n",
       "        <td id=\"T_6fc2d57e_2334_11e9_b3da_3417eb9a9a44row6_col0\" class=\"data row6 col0\" ><a href=\"https://www.ncbi.nlm.nih.gov/gene/100128691\">100128691</a></td> \n",
       "        <td id=\"T_6fc2d57e_2334_11e9_b3da_3417eb9a9a44row6_col1\" class=\"data row6 col1\" >LOC100128691</td> \n",
       "        <td id=\"T_6fc2d57e_2334_11e9_b3da_3417eb9a9a44row6_col2\" class=\"data row6 col2\" >withdrawn</td> \n",
       "    </tr>    <tr> \n",
       "        <th id=\"T_6fc2d57e_2334_11e9_b3da_3417eb9a9a44level0_row7\" class=\"row_heading level0 row7\" >318</th> \n",
       "        <td id=\"T_6fc2d57e_2334_11e9_b3da_3417eb9a9a44row7_col0\" class=\"data row7 col0\" ><a href=\"https://www.ncbi.nlm.nih.gov/gene/101927260\">101927260</a></td> \n",
       "        <td id=\"T_6fc2d57e_2334_11e9_b3da_3417eb9a9a44row7_col1\" class=\"data row7 col1\" >LOC101927260</td> \n",
       "        <td id=\"T_6fc2d57e_2334_11e9_b3da_3417eb9a9a44row7_col2\" class=\"data row7 col2\" >replaced</td> \n",
       "    </tr>    <tr> \n",
       "        <th id=\"T_6fc2d57e_2334_11e9_b3da_3417eb9a9a44level0_row8\" class=\"row_heading level0 row8\" >1281</th> \n",
       "        <td id=\"T_6fc2d57e_2334_11e9_b3da_3417eb9a9a44row8_col0\" class=\"data row8 col0\" ><a href=\"https://www.ncbi.nlm.nih.gov/gene/105379689\">105379689</a></td> \n",
       "        <td id=\"T_6fc2d57e_2334_11e9_b3da_3417eb9a9a44row8_col1\" class=\"data row8 col1\" >LOC105379689</td> \n",
       "        <td id=\"T_6fc2d57e_2334_11e9_b3da_3417eb9a9a44row8_col2\" class=\"data row8 col2\" >withdrawn</td> \n",
       "    </tr>    <tr> \n",
       "        <th id=\"T_6fc2d57e_2334_11e9_b3da_3417eb9a9a44level0_row9\" class=\"row_heading level0 row9\" >1426</th> \n",
       "        <td id=\"T_6fc2d57e_2334_11e9_b3da_3417eb9a9a44row9_col0\" class=\"data row9 col0\" ><a href=\"https://www.ncbi.nlm.nih.gov/gene/388282\">388282</a></td> \n",
       "        <td id=\"T_6fc2d57e_2334_11e9_b3da_3417eb9a9a44row9_col1\" class=\"data row9 col1\" >LOC388282</td> \n",
       "        <td id=\"T_6fc2d57e_2334_11e9_b3da_3417eb9a9a44row9_col2\" class=\"data row9 col2\" >normal</td> \n",
       "    </tr></tbody> \n",
       "</table> "
      ],
      "text/plain": [
       "<pandas.io.formats.style.Styler at 0x7f4d1753f4e0>"
      ]
     },
     "execution_count": 15,
     "metadata": {},
     "output_type": "execute_result"
    }
   ],
   "source": [
    "(missed_genes\n",
    "    .query(\"is_loc\")\n",
    "    .sample(10)\n",
    "    [[\"hetio_id\", \"name\"]]\n",
    "    .pipe(get_status)\n",
    ").style.format({\"hetio_id\": make_clickable})"
   ]
  },
  {
   "cell_type": "markdown",
   "metadata": {},
   "source": [
    "---"
   ]
  },
  {
   "cell_type": "markdown",
   "metadata": {},
   "source": [
    "## Process a larger sample of genes"
   ]
  },
  {
   "cell_type": "code",
   "execution_count": 16,
   "metadata": {},
   "outputs": [],
   "source": [
    "big_sample = (missed_genes\n",
    "    .query(\"is_loc\")\n",
    "    .sample(50)\n",
    "    .append(\n",
    "        missed_genes.query(\"~is_loc\").sample(50)\n",
    "    )\n",
    "    .sort_values(\"hetio_id\")\n",
    "    .reset_index(drop=True)\n",
    ")"
   ]
  },
  {
   "cell_type": "code",
   "execution_count": 17,
   "metadata": {},
   "outputs": [
    {
     "data": {
      "text/plain": [
       "(100, 6)"
      ]
     },
     "execution_count": 17,
     "metadata": {},
     "output_type": "execute_result"
    }
   ],
   "source": [
    "big_sample.shape"
   ]
  },
  {
   "cell_type": "code",
   "execution_count": 18,
   "metadata": {},
   "outputs": [
    {
     "data": {
      "text/html": [
       "<div>\n",
       "<style scoped>\n",
       "    .dataframe tbody tr th:only-of-type {\n",
       "        vertical-align: middle;\n",
       "    }\n",
       "\n",
       "    .dataframe tbody tr th {\n",
       "        vertical-align: top;\n",
       "    }\n",
       "\n",
       "    .dataframe thead th {\n",
       "        text-align: right;\n",
       "    }\n",
       "</style>\n",
       "<table border=\"1\" class=\"dataframe\">\n",
       "  <thead>\n",
       "    <tr style=\"text-align: right;\">\n",
       "      <th></th>\n",
       "      <th>hetio_id</th>\n",
       "      <th>name</th>\n",
       "      <th>het_type</th>\n",
       "      <th>cui</th>\n",
       "      <th>is_cui</th>\n",
       "      <th>is_loc</th>\n",
       "    </tr>\n",
       "  </thead>\n",
       "  <tbody>\n",
       "    <tr>\n",
       "      <th>0</th>\n",
       "      <td>100049579</td>\n",
       "      <td>OCTN3</td>\n",
       "      <td>Gene</td>\n",
       "      <td>100049579</td>\n",
       "      <td>False</td>\n",
       "      <td>False</td>\n",
       "    </tr>\n",
       "    <tr>\n",
       "      <th>1</th>\n",
       "      <td>100127889</td>\n",
       "      <td>C10orf131</td>\n",
       "      <td>Gene</td>\n",
       "      <td>100127889</td>\n",
       "      <td>False</td>\n",
       "      <td>False</td>\n",
       "    </tr>\n",
       "    <tr>\n",
       "      <th>2</th>\n",
       "      <td>100128795</td>\n",
       "      <td>LOC100128795</td>\n",
       "      <td>Gene</td>\n",
       "      <td>100128795</td>\n",
       "      <td>False</td>\n",
       "      <td>True</td>\n",
       "    </tr>\n",
       "    <tr>\n",
       "      <th>3</th>\n",
       "      <td>100129069</td>\n",
       "      <td>LOC100129069</td>\n",
       "      <td>Gene</td>\n",
       "      <td>100129069</td>\n",
       "      <td>False</td>\n",
       "      <td>True</td>\n",
       "    </tr>\n",
       "    <tr>\n",
       "      <th>4</th>\n",
       "      <td>100129126</td>\n",
       "      <td>LOC100129126</td>\n",
       "      <td>Gene</td>\n",
       "      <td>100129126</td>\n",
       "      <td>False</td>\n",
       "      <td>True</td>\n",
       "    </tr>\n",
       "  </tbody>\n",
       "</table>\n",
       "</div>"
      ],
      "text/plain": [
       "    hetio_id          name het_type        cui  is_cui  is_loc\n",
       "0  100049579         OCTN3     Gene  100049579   False   False\n",
       "1  100127889     C10orf131     Gene  100127889   False   False\n",
       "2  100128795  LOC100128795     Gene  100128795   False    True\n",
       "3  100129069  LOC100129069     Gene  100129069   False    True\n",
       "4  100129126  LOC100129126     Gene  100129126   False    True"
      ]
     },
     "execution_count": 18,
     "metadata": {},
     "output_type": "execute_result"
    }
   ],
   "source": [
    "big_sample.head()"
   ]
  },
  {
   "cell_type": "code",
   "execution_count": 19,
   "metadata": {},
   "outputs": [
    {
     "data": {
      "text/plain": [
       "True     50\n",
       "False    50\n",
       "Name: is_loc, dtype: int64"
      ]
     },
     "execution_count": 19,
     "metadata": {},
     "output_type": "execute_result"
    }
   ],
   "source": [
    "big_sample[\"is_loc\"].value_counts()"
   ]
  },
  {
   "cell_type": "markdown",
   "metadata": {},
   "source": [
    "### Get gene status from NCBI Gene"
   ]
  },
  {
   "cell_type": "code",
   "execution_count": 20,
   "metadata": {},
   "outputs": [
    {
     "name": "stderr",
     "output_type": "stream",
     "text": [
      "100%|██████████| 100/100 [02:40<00:00,  1.37s/it]\n"
     ]
    }
   ],
   "source": [
    "sample_size = 100\n",
    "\n",
    "res = defaultdict(list)\n",
    "\n",
    "for row in tqdm(big_sample.itertuples(), total=sample_size):\n",
    "    hetio_id = row.hetio_id\n",
    "    status = parse(hetio_id)\n",
    "    \n",
    "    res[\"hetio_id\"].append(hetio_id)\n",
    "    res[\"gene_status\"].append(status)"
   ]
  },
  {
   "cell_type": "code",
   "execution_count": 21,
   "metadata": {},
   "outputs": [],
   "source": [
    "res = pd.DataFrame(res)"
   ]
  },
  {
   "cell_type": "code",
   "execution_count": 22,
   "metadata": {},
   "outputs": [
    {
     "data": {
      "text/plain": [
       "(100, 2)"
      ]
     },
     "execution_count": 22,
     "metadata": {},
     "output_type": "execute_result"
    }
   ],
   "source": [
    "res.shape"
   ]
  },
  {
   "cell_type": "code",
   "execution_count": 23,
   "metadata": {},
   "outputs": [
    {
     "data": {
      "text/html": [
       "<div>\n",
       "<style scoped>\n",
       "    .dataframe tbody tr th:only-of-type {\n",
       "        vertical-align: middle;\n",
       "    }\n",
       "\n",
       "    .dataframe tbody tr th {\n",
       "        vertical-align: top;\n",
       "    }\n",
       "\n",
       "    .dataframe thead th {\n",
       "        text-align: right;\n",
       "    }\n",
       "</style>\n",
       "<table border=\"1\" class=\"dataframe\">\n",
       "  <thead>\n",
       "    <tr style=\"text-align: right;\">\n",
       "      <th></th>\n",
       "      <th>hetio_id</th>\n",
       "      <th>gene_status</th>\n",
       "    </tr>\n",
       "  </thead>\n",
       "  <tbody>\n",
       "    <tr>\n",
       "      <th>0</th>\n",
       "      <td>100049579</td>\n",
       "      <td>normal</td>\n",
       "    </tr>\n",
       "    <tr>\n",
       "      <th>1</th>\n",
       "      <td>100127889</td>\n",
       "      <td>replaced</td>\n",
       "    </tr>\n",
       "    <tr>\n",
       "      <th>2</th>\n",
       "      <td>100128795</td>\n",
       "      <td>withdrawn</td>\n",
       "    </tr>\n",
       "    <tr>\n",
       "      <th>3</th>\n",
       "      <td>100129069</td>\n",
       "      <td>withdrawn</td>\n",
       "    </tr>\n",
       "    <tr>\n",
       "      <th>4</th>\n",
       "      <td>100129126</td>\n",
       "      <td>withdrawn</td>\n",
       "    </tr>\n",
       "  </tbody>\n",
       "</table>\n",
       "</div>"
      ],
      "text/plain": [
       "    hetio_id gene_status\n",
       "0  100049579      normal\n",
       "1  100127889    replaced\n",
       "2  100128795   withdrawn\n",
       "3  100129069   withdrawn\n",
       "4  100129126   withdrawn"
      ]
     },
     "execution_count": 23,
     "metadata": {},
     "output_type": "execute_result"
    }
   ],
   "source": [
    "res.head()"
   ]
  },
  {
   "cell_type": "markdown",
   "metadata": {},
   "source": [
    "---"
   ]
  },
  {
   "cell_type": "markdown",
   "metadata": {},
   "source": [
    "## Merge gene status results with the large sample"
   ]
  },
  {
   "cell_type": "code",
   "execution_count": 24,
   "metadata": {
    "scrolled": false
   },
   "outputs": [],
   "source": [
    "sample_res = (big_sample\n",
    "    [[\"hetio_id\", \"name\", \"is_loc\"]]\n",
    "    .merge(res, how=\"inner\", on=\"hetio_id\")\n",
    ")"
   ]
  },
  {
   "cell_type": "code",
   "execution_count": 25,
   "metadata": {},
   "outputs": [
    {
     "data": {
      "text/plain": [
       "(100, 4)"
      ]
     },
     "execution_count": 25,
     "metadata": {},
     "output_type": "execute_result"
    }
   ],
   "source": [
    "sample_res.shape"
   ]
  },
  {
   "cell_type": "code",
   "execution_count": 26,
   "metadata": {},
   "outputs": [
    {
     "data": {
      "text/html": [
       "<div>\n",
       "<style scoped>\n",
       "    .dataframe tbody tr th:only-of-type {\n",
       "        vertical-align: middle;\n",
       "    }\n",
       "\n",
       "    .dataframe tbody tr th {\n",
       "        vertical-align: top;\n",
       "    }\n",
       "\n",
       "    .dataframe thead th {\n",
       "        text-align: right;\n",
       "    }\n",
       "</style>\n",
       "<table border=\"1\" class=\"dataframe\">\n",
       "  <thead>\n",
       "    <tr style=\"text-align: right;\">\n",
       "      <th></th>\n",
       "      <th>hetio_id</th>\n",
       "      <th>name</th>\n",
       "      <th>is_loc</th>\n",
       "      <th>gene_status</th>\n",
       "    </tr>\n",
       "  </thead>\n",
       "  <tbody>\n",
       "    <tr>\n",
       "      <th>0</th>\n",
       "      <td>100049579</td>\n",
       "      <td>OCTN3</td>\n",
       "      <td>False</td>\n",
       "      <td>normal</td>\n",
       "    </tr>\n",
       "    <tr>\n",
       "      <th>1</th>\n",
       "      <td>100127889</td>\n",
       "      <td>C10orf131</td>\n",
       "      <td>False</td>\n",
       "      <td>replaced</td>\n",
       "    </tr>\n",
       "    <tr>\n",
       "      <th>2</th>\n",
       "      <td>100128795</td>\n",
       "      <td>LOC100128795</td>\n",
       "      <td>True</td>\n",
       "      <td>withdrawn</td>\n",
       "    </tr>\n",
       "    <tr>\n",
       "      <th>3</th>\n",
       "      <td>100129069</td>\n",
       "      <td>LOC100129069</td>\n",
       "      <td>True</td>\n",
       "      <td>withdrawn</td>\n",
       "    </tr>\n",
       "    <tr>\n",
       "      <th>4</th>\n",
       "      <td>100129126</td>\n",
       "      <td>LOC100129126</td>\n",
       "      <td>True</td>\n",
       "      <td>withdrawn</td>\n",
       "    </tr>\n",
       "  </tbody>\n",
       "</table>\n",
       "</div>"
      ],
      "text/plain": [
       "    hetio_id          name  is_loc gene_status\n",
       "0  100049579         OCTN3   False      normal\n",
       "1  100127889     C10orf131   False    replaced\n",
       "2  100128795  LOC100128795    True   withdrawn\n",
       "3  100129069  LOC100129069    True   withdrawn\n",
       "4  100129126  LOC100129126    True   withdrawn"
      ]
     },
     "execution_count": 26,
     "metadata": {},
     "output_type": "execute_result"
    }
   ],
   "source": [
    "sample_res.head()"
   ]
  },
  {
   "cell_type": "markdown",
   "metadata": {},
   "source": [
    "### Gene status of large sample"
   ]
  },
  {
   "cell_type": "code",
   "execution_count": 27,
   "metadata": {},
   "outputs": [
    {
     "data": {
      "text/plain": [
       "withdrawn    40.0\n",
       "normal       35.0\n",
       "replaced     25.0\n",
       "Name: gene_status, dtype: float64"
      ]
     },
     "execution_count": 27,
     "metadata": {},
     "output_type": "execute_result"
    }
   ],
   "source": [
    "sample_res[\"gene_status\"].value_counts(normalize=True).multiply(100)"
   ]
  },
  {
   "cell_type": "markdown",
   "metadata": {},
   "source": [
    "### Gene status divided by LOC status"
   ]
  },
  {
   "cell_type": "code",
   "execution_count": 28,
   "metadata": {},
   "outputs": [
    {
     "data": {
      "text/plain": [
       "is_loc  gene_status\n",
       "False   replaced       20\n",
       "        normal         15\n",
       "        withdrawn      15\n",
       "True    withdrawn      25\n",
       "        normal         20\n",
       "        replaced        5\n",
       "Name: gene_status, dtype: int64"
      ]
     },
     "execution_count": 28,
     "metadata": {},
     "output_type": "execute_result"
    }
   ],
   "source": [
    "sample_res.groupby(\"is_loc\")[\"gene_status\"].value_counts()"
   ]
  },
  {
   "cell_type": "code",
   "execution_count": 29,
   "metadata": {},
   "outputs": [
    {
     "data": {
      "text/plain": [
       "is_loc  gene_status\n",
       "False   replaced       40.0\n",
       "        normal         30.0\n",
       "        withdrawn      30.0\n",
       "True    withdrawn      50.0\n",
       "        normal         40.0\n",
       "        replaced       10.0\n",
       "Name: gene_status, dtype: float64"
      ]
     },
     "execution_count": 29,
     "metadata": {},
     "output_type": "execute_result"
    }
   ],
   "source": [
    "sample_res.groupby(\"is_loc\")[\"gene_status\"].value_counts(normalize=True).multiply(100)"
   ]
  },
  {
   "cell_type": "markdown",
   "metadata": {},
   "source": [
    "# Conclusion\n",
    "\n",
    "From a sample of 100 out of 1562 genes it seems like most of the LOC genes were withdrawn. Some of the genes may be mappable to HGNC ids and therefore UMLS CUIs by updating the mapping file."
   ]
  }
 ],
 "metadata": {
  "kernelspec": {
   "display_name": "Python 3",
   "language": "python",
   "name": "python3"
  },
  "language_info": {
   "codemirror_mode": {
    "name": "ipython",
    "version": 3
   },
   "file_extension": ".py",
   "mimetype": "text/x-python",
   "name": "python",
   "nbconvert_exporter": "python",
   "pygments_lexer": "ipython3",
   "version": "3.6.7"
  }
 },
 "nbformat": 4,
 "nbformat_minor": 2
}
