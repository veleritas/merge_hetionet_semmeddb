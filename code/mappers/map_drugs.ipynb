{
 "cells": [
  {
   "cell_type": "markdown",
   "metadata": {},
   "source": [
    "# Map Drugbank IDs to CUIs"
   ]
  },
  {
   "cell_type": "code",
   "execution_count": 1,
   "metadata": {},
   "outputs": [],
   "source": [
    "from collections import defaultdict\n",
    "\n",
    "import pandas as pd\n",
    "import xml.etree.ElementTree as ET"
   ]
  },
  {
   "cell_type": "code",
   "execution_count": 2,
   "metadata": {},
   "outputs": [],
   "source": [
    "def read_umls(fname):\n",
    "    \"\"\"Read through MRCONSO.RRF and extract relevant info.\n",
    "\n",
    "    Currently extracted information:\n",
    "        1. DrugBank ID\n",
    "        2. MeSH ID\n",
    "        3. UNII\n",
    "\n",
    "    Other data sources could be processed here, but diminishing returns kick\n",
    "    in very quickly (they provide redundant data).\n",
    "\n",
    "    For example, RxNorm mappings are almost a complete subset of the direct\n",
    "    UNII mappings.\n",
    "\n",
    "    Returns a pandas DataFrame with three columns.\n",
    "    \"\"\"\n",
    "    res = defaultdict(list)\n",
    "    with open(fname, \"r\") as fin:\n",
    "        for line in fin:\n",
    "            vals = line.rstrip(\"\\n\").split(\"|\")\n",
    "\n",
    "            cui, sab, code = vals[0], vals[11], vals[13]\n",
    "\n",
    "            if sab in {\"DRUGBANK\", \"MSH\", \"MTHSPL\", \"NCI_FDA\"}:\n",
    "                res[\"cui\"].append(cui)\n",
    "                res[\"code\"].append(code)\n",
    "                res[\"source\"].append(sab)\n",
    "\n",
    "    return (pd\n",
    "        .DataFrame(res)\n",
    "        .drop_duplicates()\n",
    "        .reset_index(drop=True)\n",
    "    )"
   ]
  },
  {
   "cell_type": "code",
   "execution_count": 3,
   "metadata": {},
   "outputs": [],
   "source": [
    "info = read_umls(\"../../data/ontologies/MRCONSO.RRF\")"
   ]
  },
  {
   "cell_type": "code",
   "execution_count": 4,
   "metadata": {},
   "outputs": [
    {
     "data": {
      "text/plain": [
       "(535618, 3)"
      ]
     },
     "execution_count": 4,
     "metadata": {},
     "output_type": "execute_result"
    }
   ],
   "source": [
    "info.shape"
   ]
  },
  {
   "cell_type": "code",
   "execution_count": 5,
   "metadata": {},
   "outputs": [
    {
     "data": {
      "text/html": [
       "<div>\n",
       "<style scoped>\n",
       "    .dataframe tbody tr th:only-of-type {\n",
       "        vertical-align: middle;\n",
       "    }\n",
       "\n",
       "    .dataframe tbody tr th {\n",
       "        vertical-align: top;\n",
       "    }\n",
       "\n",
       "    .dataframe thead th {\n",
       "        text-align: right;\n",
       "    }\n",
       "</style>\n",
       "<table border=\"1\" class=\"dataframe\">\n",
       "  <thead>\n",
       "    <tr style=\"text-align: right;\">\n",
       "      <th></th>\n",
       "      <th>cui</th>\n",
       "      <th>code</th>\n",
       "      <th>source</th>\n",
       "    </tr>\n",
       "  </thead>\n",
       "  <tbody>\n",
       "    <tr>\n",
       "      <th>0</th>\n",
       "      <td>C0000005</td>\n",
       "      <td>D012711</td>\n",
       "      <td>MSH</td>\n",
       "    </tr>\n",
       "    <tr>\n",
       "      <th>1</th>\n",
       "      <td>C0000039</td>\n",
       "      <td>D015060</td>\n",
       "      <td>MSH</td>\n",
       "    </tr>\n",
       "    <tr>\n",
       "      <th>2</th>\n",
       "      <td>C0000052</td>\n",
       "      <td>D015061</td>\n",
       "      <td>MSH</td>\n",
       "    </tr>\n",
       "    <tr>\n",
       "      <th>3</th>\n",
       "      <td>C0000074</td>\n",
       "      <td>D010742</td>\n",
       "      <td>MSH</td>\n",
       "    </tr>\n",
       "    <tr>\n",
       "      <th>4</th>\n",
       "      <td>C0000084</td>\n",
       "      <td>D015055</td>\n",
       "      <td>MSH</td>\n",
       "    </tr>\n",
       "  </tbody>\n",
       "</table>\n",
       "</div>"
      ],
      "text/plain": [
       "        cui     code source\n",
       "0  C0000005  D012711    MSH\n",
       "1  C0000039  D015060    MSH\n",
       "2  C0000052  D015061    MSH\n",
       "3  C0000074  D010742    MSH\n",
       "4  C0000084  D015055    MSH"
      ]
     },
     "execution_count": 5,
     "metadata": {},
     "output_type": "execute_result"
    }
   ],
   "source": [
    "info.head()"
   ]
  },
  {
   "cell_type": "code",
   "execution_count": 6,
   "metadata": {},
   "outputs": [
    {
     "data": {
      "text/plain": [
       "MSH         370689\n",
       "MTHSPL      137672\n",
       "NCI_FDA      20698\n",
       "DRUGBANK      6559\n",
       "Name: source, dtype: int64"
      ]
     },
     "execution_count": 6,
     "metadata": {},
     "output_type": "execute_result"
    }
   ],
   "source": [
    "info[\"source\"].value_counts()"
   ]
  },
  {
   "cell_type": "markdown",
   "metadata": {},
   "source": [
    "---"
   ]
  },
  {
   "cell_type": "code",
   "execution_count": 7,
   "metadata": {},
   "outputs": [],
   "source": [
    "# Parse DrugBank's XML file to map obsolete DB IDs\n",
    "\n",
    "def map_dbids(fname):\n",
    "    \"\"\"Parse the DrugBank XML to determine obsolete DrugBank ID mappings to the\n",
    "    current DrugBank ID.\"\"\"\n",
    "\n",
    "    tree = ET.parse(fname)\n",
    "    root = tree.getroot()\n",
    "\n",
    "    namespace = {\"DB\": \"http://www.drugbank.ca\"}\n",
    "\n",
    "    DB_ID_LEN = 7\n",
    "\n",
    "    res = defaultdict(list)\n",
    "    for drug in root.iterfind(\"DB:drug\", namespace):\n",
    "        primary_id = drug.find(\"DB:drugbank-id[@primary='true']\", namespace).text\n",
    "        assert primary_id.startswith(\"DB\")\n",
    "\n",
    "        for uid in drug.iterfind(\"DB:drugbank-id\", namespace):\n",
    "            id_val = uid.text\n",
    "\n",
    "            if id_val.startswith(\"DB\") and len(id_val) == DB_ID_LEN:\n",
    "                res[\"primary_id\"].append(primary_id)\n",
    "                res[\"other_id\"].append(id_val)\n",
    "\n",
    "    return pd.DataFrame(res).drop_duplicates()"
   ]
  },
  {
   "cell_type": "code",
   "execution_count": 8,
   "metadata": {},
   "outputs": [],
   "source": [
    "# some of the drugbank ids given in the UMLS are obsolete\n",
    "# we need to map them to their current values\n",
    "\n",
    "drugbank = (info\n",
    "    .query(\"source == 'DRUGBANK'\")\n",
    "    .drop(\"source\", axis=1)\n",
    "    .merge(\n",
    "        map_dbids(\"../../data/ontologies/drugbank_full.xml\"),\n",
    "        how=\"inner\", left_on=\"code\", right_on=\"other_id\"\n",
    "    )\n",
    "    [[\"cui\", \"primary_id\"]]\n",
    "    .rename(columns={\"primary_id\": \"drugbank_id\"})\n",
    "    .drop_duplicates()\n",
    ")"
   ]
  },
  {
   "cell_type": "code",
   "execution_count": 9,
   "metadata": {},
   "outputs": [
    {
     "data": {
      "text/html": [
       "<div>\n",
       "<style scoped>\n",
       "    .dataframe tbody tr th:only-of-type {\n",
       "        vertical-align: middle;\n",
       "    }\n",
       "\n",
       "    .dataframe tbody tr th {\n",
       "        vertical-align: top;\n",
       "    }\n",
       "\n",
       "    .dataframe thead th {\n",
       "        text-align: right;\n",
       "    }\n",
       "</style>\n",
       "<table border=\"1\" class=\"dataframe\">\n",
       "  <thead>\n",
       "    <tr style=\"text-align: right;\">\n",
       "      <th></th>\n",
       "      <th>cui</th>\n",
       "      <th>drugbank_id</th>\n",
       "    </tr>\n",
       "  </thead>\n",
       "  <tbody>\n",
       "    <tr>\n",
       "      <th>0</th>\n",
       "      <td>C0000378</td>\n",
       "      <td>DB06262</td>\n",
       "    </tr>\n",
       "    <tr>\n",
       "      <th>1</th>\n",
       "      <td>C0000379</td>\n",
       "      <td>DB01509</td>\n",
       "    </tr>\n",
       "    <tr>\n",
       "      <th>2</th>\n",
       "      <td>C0000477</td>\n",
       "      <td>DB06637</td>\n",
       "    </tr>\n",
       "    <tr>\n",
       "      <th>3</th>\n",
       "      <td>C0878240</td>\n",
       "      <td>DB06637</td>\n",
       "    </tr>\n",
       "    <tr>\n",
       "      <th>4</th>\n",
       "      <td>C1449659</td>\n",
       "      <td>DB06637</td>\n",
       "    </tr>\n",
       "  </tbody>\n",
       "</table>\n",
       "</div>"
      ],
      "text/plain": [
       "        cui drugbank_id\n",
       "0  C0000378     DB06262\n",
       "1  C0000379     DB01509\n",
       "2  C0000477     DB06637\n",
       "3  C0878240     DB06637\n",
       "4  C1449659     DB06637"
      ]
     },
     "execution_count": 9,
     "metadata": {},
     "output_type": "execute_result"
    }
   ],
   "source": [
    "drugbank.head()"
   ]
  },
  {
   "cell_type": "code",
   "execution_count": 10,
   "metadata": {
    "scrolled": true
   },
   "outputs": [
    {
     "data": {
      "text/plain": [
       "(6558, 2)"
      ]
     },
     "execution_count": 10,
     "metadata": {},
     "output_type": "execute_result"
    }
   ],
   "source": [
    "drugbank.shape"
   ]
  },
  {
   "cell_type": "code",
   "execution_count": 11,
   "metadata": {},
   "outputs": [],
   "source": [
    "drugbank = drugbank.sort_values([\"drugbank_id\", \"cui\"])"
   ]
  },
  {
   "cell_type": "markdown",
   "metadata": {},
   "source": [
    "---"
   ]
  },
  {
   "cell_type": "markdown",
   "metadata": {},
   "source": [
    "## Data validation"
   ]
  },
  {
   "cell_type": "code",
   "execution_count": 12,
   "metadata": {},
   "outputs": [],
   "source": [
    "final = (drugbank\n",
    "    .assign(cui = lambda df: df[\"cui\"].map(lambda v: \"UMLS:{}\".format(v)))\n",
    "    .sort_values([\"drugbank_id\", \"cui\"])\n",
    "    .reset_index(drop=True)\n",
    ")"
   ]
  },
  {
   "cell_type": "code",
   "execution_count": 13,
   "metadata": {},
   "outputs": [
    {
     "data": {
      "text/html": [
       "<div>\n",
       "<style scoped>\n",
       "    .dataframe tbody tr th:only-of-type {\n",
       "        vertical-align: middle;\n",
       "    }\n",
       "\n",
       "    .dataframe tbody tr th {\n",
       "        vertical-align: top;\n",
       "    }\n",
       "\n",
       "    .dataframe thead th {\n",
       "        text-align: right;\n",
       "    }\n",
       "</style>\n",
       "<table border=\"1\" class=\"dataframe\">\n",
       "  <thead>\n",
       "    <tr style=\"text-align: right;\">\n",
       "      <th></th>\n",
       "      <th>cui</th>\n",
       "      <th>drugbank_id</th>\n",
       "    </tr>\n",
       "  </thead>\n",
       "  <tbody>\n",
       "    <tr>\n",
       "      <th>0</th>\n",
       "      <td>UMLS:C0772394</td>\n",
       "      <td>DB00001</td>\n",
       "    </tr>\n",
       "    <tr>\n",
       "      <th>1</th>\n",
       "      <td>UMLS:C0995188</td>\n",
       "      <td>DB00002</td>\n",
       "    </tr>\n",
       "    <tr>\n",
       "      <th>2</th>\n",
       "      <td>UMLS:C1135662</td>\n",
       "      <td>DB00003</td>\n",
       "    </tr>\n",
       "    <tr>\n",
       "      <th>3</th>\n",
       "      <td>UMLS:C0717670</td>\n",
       "      <td>DB00004</td>\n",
       "    </tr>\n",
       "    <tr>\n",
       "      <th>4</th>\n",
       "      <td>UMLS:C0255813</td>\n",
       "      <td>DB00005</td>\n",
       "    </tr>\n",
       "  </tbody>\n",
       "</table>\n",
       "</div>"
      ],
      "text/plain": [
       "             cui drugbank_id\n",
       "0  UMLS:C0772394     DB00001\n",
       "1  UMLS:C0995188     DB00002\n",
       "2  UMLS:C1135662     DB00003\n",
       "3  UMLS:C0717670     DB00004\n",
       "4  UMLS:C0255813     DB00005"
      ]
     },
     "execution_count": 13,
     "metadata": {},
     "output_type": "execute_result"
    }
   ],
   "source": [
    "final.head()"
   ]
  },
  {
   "cell_type": "code",
   "execution_count": 14,
   "metadata": {},
   "outputs": [
    {
     "data": {
      "text/plain": [
       "True"
      ]
     },
     "execution_count": 14,
     "metadata": {},
     "output_type": "execute_result"
    }
   ],
   "source": [
    "final[\"cui\"].str.startswith(\"UMLS:C\").all()"
   ]
  },
  {
   "cell_type": "code",
   "execution_count": 15,
   "metadata": {},
   "outputs": [
    {
     "data": {
      "text/plain": [
       "True"
      ]
     },
     "execution_count": 15,
     "metadata": {},
     "output_type": "execute_result"
    }
   ],
   "source": [
    "final[\"drugbank_id\"].str.startswith(\"DB\").all()"
   ]
  },
  {
   "cell_type": "code",
   "execution_count": 16,
   "metadata": {},
   "outputs": [
    {
     "data": {
      "text/plain": [
       "(6558, 2)"
      ]
     },
     "execution_count": 16,
     "metadata": {},
     "output_type": "execute_result"
    }
   ],
   "source": [
    "final.shape"
   ]
  },
  {
   "cell_type": "markdown",
   "metadata": {},
   "source": [
    "## Save to file"
   ]
  },
  {
   "cell_type": "code",
   "execution_count": 17,
   "metadata": {},
   "outputs": [],
   "source": [
    "final.to_csv(\"../../pipeline/maps/drugbank.tsv\", sep='\\t', index=False)"
   ]
  }
 ],
 "metadata": {
  "kernelspec": {
   "display_name": "Python 3",
   "language": "python",
   "name": "python3"
  },
  "language_info": {
   "codemirror_mode": {
    "name": "ipython",
    "version": 3
   },
   "file_extension": ".py",
   "mimetype": "text/x-python",
   "name": "python",
   "nbconvert_exporter": "python",
   "pygments_lexer": "ipython3",
   "version": "3.6.7"
  }
 },
 "nbformat": 4,
 "nbformat_minor": 2
}
